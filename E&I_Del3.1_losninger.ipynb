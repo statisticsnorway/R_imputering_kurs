{
 "cells": [
  {
   "cell_type": "markdown",
   "id": "8d4e5030-861f-4ec1-b074-b5d5b40bc651",
   "metadata": {},
   "source": [
    "# Editering og Imputering Kurs løsninger\n",
    "\n",
    "- [Setup](#setup)\n",
    "- [Del 1](#del1)\n",
    "- [Del 2](#del2)\n",
    "- [Del 3](#del3)\n"
   ]
  },
  {
   "cell_type": "markdown",
   "id": "0318b050-889f-45c7-b34f-48bd896b8feb",
   "metadata": {},
   "source": [
    "<a id = 'setup'></a>\n",
    "## Setup\n",
    "Datasett er basert på Tabell 8.3 fra L.Lohr \"Sampling Design and Analysis\" bok"
   ]
  },
  {
   "cell_type": "code",
   "execution_count": null,
   "id": "36674b6f-4a24-4a75-a4df-e3cba0dd5b83",
   "metadata": {},
   "outputs": [],
   "source": [
    "offer <- data.frame(person = seq(1:20), #person number\n",
    "                     alder = c(47, 45, 19, 21, -24, 41, 36, 50, 53, 17, 53, 21, 18, 34, 44, 45, 54, -55, 29, 32), #alder av personen\n",
    "                     kjoenn = c(\"M\", \"F\", \"M\", \"F\", \"M\", \"kvinne\", \"M\", \"M\", \"F\", \"M\", \"F\", \"F\", \"KVinne\", \"M\", \"M\", \"M\", \"F\", \"F\", \"F\", \"F\"), #M - menn, F - kvinne\n",
    "                     aar_utdanning = c(16, NA, 20, NA, 12, NA, 20, 12, 13, 10, 12, 12, 11, 16, 14, 11, 14, 10, 12, 10), #antall aar for gjennomgått utdanning\n",
    "                     kriminalitetsoffer = c(0, NA, 0, 1, 0, 0, 1, 0, 0, NA, 0, 0, 1, 1, 0, 0, 0, 0, NA, 0), #viser om man har v?rt en kriminalitets offer #1 - ja, 0 - nei\n",
    "                     voldskriminalitetsoffer = c(0, 1, 0, 1, 1, 0, NA, 0, NA, NA, 0, 0, NA, 0, 0, 0, 0, 0, 0, 0))"
   ]
  },
  {
   "cell_type": "markdown",
   "id": "d9f3f8fe-1f1f-4b3a-9388-afb710cc26d2",
   "metadata": {},
   "source": [
    "For å ta i bruk extra R pakker i Jupyter bruker vi pakkehåndterings verktøy `renv`. Vi har laget lock-filen for kurset og alt kan installere ved følgende kode. Dette vil installere og lagre pakkene i en mappe som heter renv."
   ]
  },
  {
   "cell_type": "code",
   "execution_count": null,
   "id": "e7acc66e-78d8-45ca-82b8-4224d2ad5cc3",
   "metadata": {},
   "outputs": [],
   "source": [
    "library(renv)\n",
    "renv::init()\n",
    "renv::restore()"
   ]
  },
  {
   "cell_type": "markdown",
   "id": "ffdad6e2-0f3e-413d-b632-116df42ce067",
   "metadata": {},
   "source": [
    "<a id = 'del1'></a>\n",
    "## Del 1\n"
   ]
  },
  {
   "cell_type": "markdown",
   "id": "d61bc22e-0855-477f-a19d-77760b281008",
   "metadata": {},
   "source": [
    "### Oppgave 1.1\n",
    "- a. Sjekk hvor mange tome (NA) verdier finnes i datasett offer og for hvilke variabler. \n",
    "- b. Se om det finnes negative verdier (<0) der de ikke skulle v?re.   \n",
    "- c. Se om >unifisering< av kategorikal variabel trenges\n",
    "- d. Finnes det uteligger eller verdier som ikke henger sammen i aar_utdanning?"
   ]
  },
  {
   "cell_type": "code",
   "execution_count": null,
   "id": "75543367-e94c-4f4c-b3cb-1397ec28d644",
   "metadata": {},
   "outputs": [],
   "source": [
    "summary(offer)\n",
    "plot(offer$alder, offer$aar_utdanning)"
   ]
  },
  {
   "cell_type": "markdown",
   "id": "d4b6d986-e2cd-456f-8d46-984b9aefd994",
   "metadata": {},
   "source": [
    "### Oppgave 1.2\n",
    "- med bruk av `dcmodify` pakke spesifiser logger og rett feil som du funnet i Task1.b og c. Sjekk med summary om data er korrekt n?. \n",
    "- Der aar_utdanning var større enn alder (fra Task.d) sett NA verdi\n",
    "- Lag resultater i samme datasett\n"
   ]
  },
  {
   "cell_type": "code",
   "execution_count": null,
   "id": "8dbedcb5-90d2-494d-be1f-702e15b26afa",
   "metadata": {},
   "outputs": [],
   "source": [
    "library(dcmodify)\n",
    "m1_2  <- modifier( if (alder  <  0)  alder <- abs(alder),   \n",
    "                if (toupper(kjoenn) == \"KVINNE\") kjoenn <- \"F\",\n",
    "                if (alder <= aar_utdanning) aar_utdanning <- NA)\n",
    "offer  <-  modify(offer, m1_2)\n",
    "summary(offer)\n",
    "plot(offer$alder, offer$aar_utdanning)"
   ]
  },
  {
   "cell_type": "markdown",
   "id": "a85fd652-b45c-43ec-8762-b37250cf7da7",
   "metadata": {},
   "source": [
    "### Oppgave 1.3\n",
    "- Hvis voldskriminalitetsoffer likt 1, da må kriminalitetsoffer være 1, og hvis kriminalitetsoffer likt 0 da voldskriminalitetsoffer må være 0 og. \n",
    "- korrekt feil & fyll inn manglende verdier med bruk av disse deduktive regler\n",
    "- Lag resultater i samme datasett"
   ]
  },
  {
   "cell_type": "code",
   "execution_count": null,
   "id": "1cdf85bf-8437-476f-bd55-e964a71c950a",
   "metadata": {},
   "outputs": [],
   "source": [
    "library(magrittr)\n",
    "\n",
    "head(offer)\n",
    "m1_3 <- modifier(if (voldskriminalitetsoffer == 1 & (is.na(kriminalitetsoffer)| kriminalitetsoffer == 0) )  kriminalitetsoffer <- 1,   \n",
    "            if (kriminalitetsoffer == 0 & (is.na(voldskriminalitetsoffer)| voldskriminalitetsoffer == 1) ) voldskriminalitetsoffer <- 0 )\n",
    "offer  <-  modify(offer, m1_3)\n",
    " \n",
    "offer %<>% modify_so(if (voldskriminalitetsoffer == 1 & (is.na(kriminalitetsoffer)| kriminalitetsoffer == 0) )  kriminalitetsoffer <- 1,   \n",
    "                if (kriminalitetsoffer == 0 & (is.na(voldskriminalitetsoffer)| voldskriminalitetsoffer == 1) ) voldskriminalitetsoffer <- 0 )"
   ]
  },
  {
   "cell_type": "markdown",
   "id": "0604cb31-47d1-4e33-a151-425bd86e7689",
   "metadata": {},
   "source": [
    "### Oppgave 1.4\n",
    "- Imputer aar_utdaning der mangler verdier. Bruk gjennomsnitt-imputering. Her kan brukes både dcmodify og simputation pakker\n",
    "- Lag resultater til en ny datasett: offer_1_4 med dcmodify"
   ]
  },
  {
   "cell_type": "code",
   "execution_count": null,
   "id": "ea0d4d6f-2faa-43f1-9efa-3c879808bbc4",
   "metadata": {},
   "outputs": [],
   "source": [
    "# Med dcmodify\n",
    "offer %>% modify_so(if (is.na(aar_utdanning))  aar_utdanning <- round(mean(offer$aar_utdanning, na.rm =TRUE)) ) -> offer_1_4\n",
    "head(offer_1_4)"
   ]
  },
  {
   "cell_type": "code",
   "execution_count": null,
   "id": "d746fb80-d975-4546-a3b0-555760ce699b",
   "metadata": {},
   "outputs": [],
   "source": [
    "# Med simputation\n",
    "library(simputation)\n",
    "offer %>% impute_proxy(aar_utdanning ~ mean(aar_utdanning, na.rm =TRUE)) -> offer_1_4\n",
    "head(offer_1_4)"
   ]
  },
  {
   "cell_type": "markdown",
   "id": "d85d8a52-10bc-49b2-8aa7-51e2dfd8f7e6",
   "metadata": {},
   "source": [
    "<a id = 'del2'></a>\n",
    "## Del 2\n",
    "### Oppgave 2.1\n",
    "- Del personer i celler og bruk stratifisert gjennomsnitt-imputering for aar_utdanning. Bruk pakke simputation\n",
    "- Grupper spesifiseres etter kjønn og alder <=34 & > 34\n",
    "- Lag resultater til en ny datasett: offer_2_1"
   ]
  },
  {
   "cell_type": "code",
   "execution_count": null,
   "id": "10569ad9-a961-49d0-9fe3-b7611de2131f",
   "metadata": {},
   "outputs": [],
   "source": [
    "library(simputation)\n",
    "\n",
    "offer$celle <- paste0(offer$kjoenn, sign(offer$alder > 34))\n",
    "offer %>% impute_proxy(aar_utdanning ~ mean(aar_utdanning, na.rm =TRUE)|celle) -> offer_2_1\n",
    "offer_2_1"
   ]
  },
  {
   "cell_type": "markdown",
   "id": "286079f9-0f5f-485e-a7bb-181491c7b45a",
   "metadata": {},
   "source": [
    "### Oppgave 2.2\n",
    "- Bruk samme datasett som i øvelser 1, Task 4. Bruk nærmest nabo hotdeck imputering for variabel kriminalitetsoffer og voldskriminalitetsoffer.\n",
    "- Bruk alder og kjønn for å beregne avstand"
   ]
  },
  {
   "cell_type": "code",
   "execution_count": null,
   "id": "02e29175-37ec-40ee-ad84-d1db67c16bef",
   "metadata": {},
   "outputs": [],
   "source": [
    "set.seed(1000)\n",
    "offer %>% impute_knn(aar_utdanning + kriminalitetsoffer + voldskriminalitetsoffer ~ alder + kjoenn, pool = \"complete\", k = 1) -> offer_2_2\n",
    "offer_2_2\n",
    "\n",
    "# NB: for å kontrollere hvem ble bruk som nabo kan oppretes variabel som inneholder person nummer med satt NA verdier der kriminalitetsoffer mangler: \n",
    "t <- offer\n",
    "t$nabo <- t$person\n",
    "t$nabo[is.na(t$aar_utdanning)|is.na(t$kriminalitetsoffer)|is.na(t$voldskriminalitetsoffer)] <- NA\n",
    "set.seed(1000)\n",
    "t %>% impute_knn(aar_utdanning + kriminalitetsoffer + voldskriminalitetsoffer + nabo ~ alder + kjoenn, pool = \"complete\", k = 1)\n"
   ]
  },
  {
   "cell_type": "markdown",
   "id": "81c9dc2f-5d8b-49b3-8589-81562012a1b5",
   "metadata": {},
   "source": [
    "### Oppgave 2.3\n",
    "- Bruk samme datasett som i øvelser 1.4. Bruk Linear regresjon imputering for variabel kriminalitetsoffer og voldskriminalitetsoffer."
   ]
  },
  {
   "cell_type": "code",
   "execution_count": null,
   "id": "6e24d328-55d2-45d6-8dbd-25261b9ffb52",
   "metadata": {},
   "outputs": [],
   "source": [
    "offer %>% impute_lm(aar_utdanning + kriminalitetsoffer + voldskriminalitetsoffer ~ alder + kjoenn) -> offer_2_3\n",
    "offer_2_3"
   ]
  },
  {
   "cell_type": "markdown",
   "id": "09e42286-f127-44be-b0a6-30951cd1c8c8",
   "metadata": {},
   "source": [
    "### Oppgave 2.4\n",
    "- Samme som i 2.3, men bruk predictive mean matching(pmm)\n",
    "- Lag resultater til en ny datasett: offer_2_4"
   ]
  },
  {
   "cell_type": "code",
   "execution_count": null,
   "id": "f0518869-c523-4cbf-87d1-132b16cb0a3b",
   "metadata": {},
   "outputs": [],
   "source": [
    "set.seed(1000)\n",
    "offer %>% impute_pmm(aar_utdanning + kriminalitetsoffer + voldskriminalitetsoffer ~ alder + kjoenn, predictor = impute_lm, pool = \"complete\") -> offer_2_4\n",
    "offer_2_4"
   ]
  },
  {
   "cell_type": "markdown",
   "id": "8021380c-7165-4bb2-a0b2-6ad98fe4177e",
   "metadata": {},
   "source": [
    "### Oppgave 2.5\n",
    "- plot resultater mot aar_utdanning"
   ]
  },
  {
   "cell_type": "code",
   "execution_count": null,
   "id": "e3fad112-fcf9-4266-8264-d9bca982a5c3",
   "metadata": {},
   "outputs": [],
   "source": [
    "rule <- t$kjoenn == \"F\"\n",
    "\n",
    "plot(offer$alder[rule], offer$aar_utdanning[rule])\n",
    "plot(offer$alder[rule], offer_2_1$aar_utdanning[rule])\n",
    "plot(offer$alder[rule], offer_2_2$aar_utdanning[rule])\n",
    "plot(offer$alder[rule], offer_2_3$aar_utdanning[rule])\n",
    "plot(offer$alder[rule], offer_2_4$aar_utdanning[rule])"
   ]
  },
  {
   "cell_type": "markdown",
   "id": "f2a2cd98-4756-4911-ab9e-f80fcdcc32e7",
   "metadata": {},
   "source": [
    "<a id = 'del3'></a>\n",
    "## Del 3"
   ]
  },
  {
   "cell_type": "markdown",
   "id": "edc97c31-117e-4dc2-ae8a-3002ce486ecc",
   "metadata": {},
   "source": [
    "### Oppgave\n",
    "Bruk rå `offerdata` og spor endringer i oppgave 1.2, 1.3 og med bruk av lumberjack pakke svar på spørsmålene. Dermed kjør inn data fra [Setup](#setup) på nytt først."
   ]
  },
  {
   "cell_type": "code",
   "execution_count": null,
   "id": "63afd257-4a6a-41c7-a5e0-7c8cdb554ac0",
   "metadata": {},
   "outputs": [],
   "source": [
    "library(lumberjack)\n",
    "\n",
    "offer %>>%\n",
    "  start_log(cellwise$new(key = \"person\")) %>>%\n",
    "  start_log(expression_logger$new(total_utd = sum(aar_utdanning, na.rm = TRUE), count_tom = sum(is.na(aar_utdanning)))) %>>%\n",
    "  modify(m1_2) %>>%\n",
    "  modify(m1_3) %>>%\n",
    "  impute_pmm(aar_utdanning + kriminalitetsoffer + voldskriminalitetsoffer ~ alder + kjoenn, predictor = impute_lm) %>>%\n",
    "  dump_log(\"cellwise\", file = \"offer_3_1_cellwise.csv\") %>>%\n",
    "  dump_log(\"expression_logger\", file = \"offer_3_1_expr.csv\")\n",
    "  \n",
    "offer_3_1_celllwise <- read.csv(\"offer_3_1_cellwise.csv\")\n",
    "offer_3_1_expr <- read.csv(\"offer_3_1_expr.csv\")"
   ]
  },
  {
   "cell_type": "markdown",
   "id": "e582f5f3-cfdb-4729-a096-666cdd58935d",
   "metadata": {},
   "source": [
    "### Oppgave 3.1\n",
    "- Finn prosent personer som fikk misnt 1 editering"
   ]
  },
  {
   "cell_type": "code",
   "execution_count": null,
   "id": "16e6c490-9d1a-48e1-a928-af39f6261cc9",
   "metadata": {},
   "outputs": [],
   "source": [
    "length(unique(offer_3_1_celllwise$key)) / nrow(offer) * 100"
   ]
  },
  {
   "cell_type": "markdown",
   "id": "f9d7eb02-20b9-4ba1-ab3b-d5c17697b554",
   "metadata": {},
   "source": [
    "### Oppgave 3.2\n",
    "- finn navn og antall variabler som ble editert"
   ]
  },
  {
   "cell_type": "code",
   "execution_count": null,
   "id": "a24ce9ff-a21f-435a-99cc-7adef5bc8b8c",
   "metadata": {},
   "outputs": [],
   "source": [
    "unique(offer_3_1_celllwise$variable)\n",
    "length(unique(offer_3_1_celllwise$variable))\n"
   ]
  },
  {
   "cell_type": "markdown",
   "id": "9eff7ba8-b9f9-4097-b842-552a07a19624",
   "metadata": {},
   "source": [
    "### Oppgave 3.3\n",
    "- finn prosent editerte i hver variabel fra b."
   ]
  },
  {
   "cell_type": "code",
   "execution_count": null,
   "id": "ee9e6ab0-12fe-4f52-9d85-a135d0d67914",
   "metadata": {},
   "outputs": [],
   "source": [
    "library(dplyr)\n",
    "offer_3_1_celllwise %>% group_by(variable) %>% summarise(n_endringer = n_distinct(key))"
   ]
  },
  {
   "cell_type": "markdown",
   "id": "c8bc9acd-6572-4566-9202-1441590b8b26",
   "metadata": {},
   "source": [
    "### Oppgave 3.4\n",
    "- finn steget der endringen i totalen av aar_utdaning ble den største"
   ]
  },
  {
   "cell_type": "code",
   "execution_count": null,
   "id": "e4b7148f-783b-4c77-99fe-7c973705fc87",
   "metadata": {},
   "outputs": [],
   "source": [
    "offer_3_1_expr %<>% mutate(diff = total_utd - lag(total_utd)) %>% modify_so(if(is.na(diff)) diff <- 0)\n",
    "max_steg <- match(max(offer_3_1_expr$diff), offer_3_1_expr$diff, )\n",
    "offer_3_1_expr[(max_steg-1):max_steg, ]\n"
   ]
  },
  {
   "cell_type": "code",
   "execution_count": null,
   "id": "ecdb08eb-5cc6-4c73-a2fb-314cf81eacc7",
   "metadata": {},
   "outputs": [],
   "source": []
  }
 ],
 "metadata": {
  "kernelspec": {
   "display_name": "SparkR (k8s cluster)",
   "language": "R",
   "name": "ir_k8s"
  },
  "language_info": {
   "codemirror_mode": "r",
   "file_extension": ".r",
   "mimetype": "text/x-r-source",
   "name": "R",
   "pygments_lexer": "r",
   "version": "4.1.3"
  }
 },
 "nbformat": 4,
 "nbformat_minor": 5
}

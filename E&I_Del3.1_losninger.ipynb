{
 "cells": [
  {
   "cell_type": "markdown",
   "id": "8d4e5030-861f-4ec1-b074-b5d5b40bc651",
   "metadata": {},
   "source": [
    "# Editering og Imputering Kurs løsninger\n",
    "\n",
    "- [Setup](#setup)\n",
    "- [Del 1](#del1)\n",
    "- [Del 2](#del2)\n",
    "- [Del 3](#del3)\n"
   ]
  },
  {
   "cell_type": "markdown",
   "id": "0318b050-889f-45c7-b34f-48bd896b8feb",
   "metadata": {},
   "source": [
    "<a id = 'setup'></a>\n",
    "## Setup\n",
    "Datasett er basert på Tabell 8.3 fra L.Lohr \"Sampling Design and Analysis\" bok"
   ]
  },
  {
   "cell_type": "code",
   "execution_count": 8,
   "id": "36674b6f-4a24-4a75-a4df-e3cba0dd5b83",
   "metadata": {},
   "outputs": [],
   "source": [
    "offer <- data.frame(person = seq(1:20), #person number\n",
    "                     alder = c(47, 45, 19, 21, -24, 41, 36, 50, 53, 17, 53, 21, 18, 34, 44, 45, 54, -55, 29, 32), #alder av personen\n",
    "                     kjoenn = c(\"M\", \"F\", \"M\", \"F\", \"M\", \"kvinne\", \"M\", \"M\", \"F\", \"M\", \"F\", \"F\", \"KVinne\", \"M\", \"M\", \"M\", \"F\", \"F\", \"F\", \"F\"), #M - menn, F - kvinne\n",
    "                     aar_utdanning = c(16, NA, 20, NA, 12, NA, 20, 12, 13, 10, 12, 12, 11, 16, 14, 11, 14, 10, 12, 10), #antall aar for gjennomgått utdanning\n",
    "                     kriminalitetsoffer = c(0, NA, 0, 1, 0, 0, 1, 0, 0, NA, 0, 0, 1, 1, 0, 0, 0, 0, NA, 0), #viser om man har v?rt en kriminalitets offer #1 - ja, 0 - nei\n",
    "                     voldskriminalitetsoffer = c(0, 1, 0, 1, 1, 0, NA, 0, NA, NA, 0, 0, NA, 0, 0, 0, 0, 0, 0, 0))"
   ]
  },
  {
   "cell_type": "markdown",
   "id": "d9f3f8fe-1f1f-4b3a-9388-afb710cc26d2",
   "metadata": {},
   "source": [
    "For å ta i bruk extra R pakker i Jupyter bruker vi pakkehåndterings verktøy `renv`. Vi har laget lock-filen for kurset og alt kan installere ved følgende kode. Dette vil installere og lagre pakkene i en mappe som heter renv."
   ]
  },
  {
   "cell_type": "code",
   "execution_count": 37,
   "id": "e7acc66e-78d8-45ca-82b8-4224d2ad5cc3",
   "metadata": {},
   "outputs": [
    {
     "name": "stdout",
     "output_type": "stream",
     "text": [
      "* The library is already synchronized with the lockfile.\n"
     ]
    }
   ],
   "source": [
    "library(renv)\n",
    "renv::restore()"
   ]
  },
  {
   "cell_type": "markdown",
   "id": "ffdad6e2-0f3e-413d-b632-116df42ce067",
   "metadata": {},
   "source": [
    "<a id = 'del1'></a>\n",
    "## Del 1\n"
   ]
  },
  {
   "cell_type": "markdown",
   "id": "d61bc22e-0855-477f-a19d-77760b281008",
   "metadata": {},
   "source": [
    "### Oppgave 1.1\n",
    "- a. Sjekk hvor mange tome (NA) verdier finnes i datasett offer og for hvilke variabler. \n",
    "- b. Se om det finnes negative verdier (<0) der de ikke skulle v?re.   \n",
    "- c. Se om >unifisering< av kategorikal variabel trenges\n",
    "- d. Finnes det uteligger eller verdier som ikke henger sammen i aar_utdanning?"
   ]
  },
  {
   "cell_type": "code",
   "execution_count": 9,
   "id": "75543367-e94c-4f4c-b3cb-1397ec28d644",
   "metadata": {},
   "outputs": [
    {
     "data": {
      "text/plain": [
       "     person          alder          kjoenn          aar_utdanning  \n",
       " Min.   : 1.00   Min.   :-55.0   Length:20          Min.   :10.00  \n",
       " 1st Qu.: 5.75   1st Qu.: 20.5   Class :character   1st Qu.:11.00  \n",
       " Median :10.50   Median : 35.0   Mode  :character   Median :12.00  \n",
       " Mean   :10.50   Mean   : 29.0                      Mean   :13.24  \n",
       " 3rd Qu.:15.25   3rd Qu.: 45.5                      3rd Qu.:14.00  \n",
       " Max.   :20.00   Max.   : 54.0                      Max.   :20.00  \n",
       "                                                    NA's   :3      \n",
       " kriminalitetsoffer voldskriminalitetsoffer\n",
       " Min.   :0.0000     Min.   :0.0000         \n",
       " 1st Qu.:0.0000     1st Qu.:0.0000         \n",
       " Median :0.0000     Median :0.0000         \n",
       " Mean   :0.2353     Mean   :0.1875         \n",
       " 3rd Qu.:0.0000     3rd Qu.:0.0000         \n",
       " Max.   :1.0000     Max.   :1.0000         \n",
       " NA's   :3          NA's   :4              "
      ]
     },
     "metadata": {},
     "output_type": "display_data"
    },
    {
     "data": {
      "image/png": "[encoded data removed]",
      "text/plain": [
       "plot without title"
      ]
     },
     "metadata": {
      "image/png": {
       "height": 420,
       "width": 420
      }
     },
     "output_type": "display_data"
    }
   ],
   "source": [
    "summary(offer)\n",
    "plot(offer$alder, offer$aar_utdanning)"
   ]
  },
  {
   "cell_type": "markdown",
   "id": "d4b6d986-e2cd-456f-8d46-984b9aefd994",
   "metadata": {},
   "source": [
    "### Oppgave 1.2\n",
    "- med bruk av `dcmodify` pakke spesifiser logger og rett feil som du funnet i Task1.b og c. Sjekk med summary om data er korrekt n?. \n",
    "- Der aar_utdanning var større enn alder (fra Task.d) sett NA verdi\n",
    "- Lag resultater i samme datasett\n"
   ]
  },
  {
   "cell_type": "code",
   "execution_count": 10,
   "id": "8dbedcb5-90d2-494d-be1f-702e15b26afa",
   "metadata": {},
   "outputs": [
    {
     "data": {
      "text/plain": [
       "     person          alder          kjoenn          aar_utdanning  \n",
       " Min.   : 1.00   Min.   :17.00   Length:20          Min.   :10.00  \n",
       " 1st Qu.: 5.75   1st Qu.:23.25   Class :character   1st Qu.:11.00  \n",
       " Median :10.50   Median :38.50   Mode  :character   Median :12.00  \n",
       " Mean   :10.50   Mean   :36.90                      Mean   :12.81  \n",
       " 3rd Qu.:15.25   3rd Qu.:47.75                      3rd Qu.:14.00  \n",
       " Max.   :20.00   Max.   :55.00                      Max.   :20.00  \n",
       "                                                    NA's   :4      \n",
       " kriminalitetsoffer voldskriminalitetsoffer\n",
       " Min.   :0.0000     Min.   :0.0000         \n",
       " 1st Qu.:0.0000     1st Qu.:0.0000         \n",
       " Median :0.0000     Median :0.0000         \n",
       " Mean   :0.2353     Mean   :0.1875         \n",
       " 3rd Qu.:0.0000     3rd Qu.:0.0000         \n",
       " Max.   :1.0000     Max.   :1.0000         \n",
       " NA's   :3          NA's   :4              "
      ]
     },
     "metadata": {},
     "output_type": "display_data"
    },
    {
     "data": {
      "image/png": "[encoded data removed]",
      "text/plain": [
       "plot without title"
      ]
     },
     "metadata": {
      "image/png": {
       "height": 420,
       "width": 420
      }
     },
     "output_type": "display_data"
    }
   ],
   "source": [
    "library(dcmodify)\n",
    "m1_2  <- modifier( if (alder  <  0)  alder <- abs(alder),   \n",
    "                if (toupper(kjoenn) == \"KVINNE\") kjoenn <- \"F\",\n",
    "                if (alder <= aar_utdanning) aar_utdanning <- NA)\n",
    "offer  <-  modify(offer, m1_2)\n",
    "summary(offer)\n",
    "plot(offer$alder, offer$aar_utdanning)"
   ]
  },
  {
   "cell_type": "markdown",
   "id": "a85fd652-b45c-43ec-8762-b37250cf7da7",
   "metadata": {},
   "source": [
    "### Oppgave 1.3\n",
    "- Hvis voldskriminalitetsoffer likt 1, da må kriminalitetsoffer være 1, og hvis kriminalitetsoffer likt 0 da voldskriminalitetsoffer må være 0 og. \n",
    "- korrekt feil & fyll inn manglende verdier med bruk av disse deduktive regler\n",
    "- Lag resultater i samme datasett"
   ]
  },
  {
   "cell_type": "code",
   "execution_count": 12,
   "id": "1cdf85bf-8437-476f-bd55-e964a71c950a",
   "metadata": {},
   "outputs": [
    {
     "name": "stderr",
     "output_type": "stream",
     "text": [
      "\n",
      "Attaching package: ‘magrittr’\n",
      "\n",
      "\n",
      "The following object is masked from ‘package:SparkR’:\n",
      "\n",
      "    not\n",
      "\n",
      "\n"
     ]
    },
    {
     "data": {
      "text/html": [
       "<table class=\"dataframe\">\n",
       "<caption>A data.frame: 6 × 6</caption>\n",
       "<thead>\n",
       "\t<tr><th></th><th scope=col>person</th><th scope=col>alder</th><th scope=col>kjoenn</th><th scope=col>aar_utdanning</th><th scope=col>kriminalitetsoffer</th><th scope=col>voldskriminalitetsoffer</th></tr>\n",
       "\t<tr><th></th><th scope=col>&lt;int&gt;</th><th scope=col>&lt;dbl&gt;</th><th scope=col>&lt;chr&gt;</th><th scope=col>&lt;dbl&gt;</th><th scope=col>&lt;dbl&gt;</th><th scope=col>&lt;dbl&gt;</th></tr>\n",
       "</thead>\n",
       "<tbody>\n",
       "\t<tr><th scope=row>1</th><td>1</td><td>47</td><td>M</td><td>16</td><td>0</td><td>0</td></tr>\n",
       "\t<tr><th scope=row>2</th><td>2</td><td>45</td><td>F</td><td>NA</td><td>1</td><td>1</td></tr>\n",
       "\t<tr><th scope=row>3</th><td>3</td><td>19</td><td>M</td><td>NA</td><td>0</td><td>0</td></tr>\n",
       "\t<tr><th scope=row>4</th><td>4</td><td>21</td><td>F</td><td>NA</td><td>1</td><td>1</td></tr>\n",
       "\t<tr><th scope=row>5</th><td>5</td><td>24</td><td>M</td><td>12</td><td>1</td><td>1</td></tr>\n",
       "\t<tr><th scope=row>6</th><td>6</td><td>41</td><td>F</td><td>NA</td><td>0</td><td>0</td></tr>\n",
       "</tbody>\n",
       "</table>\n"
      ],
      "text/latex": [
       "A data.frame: 6 × 6\n",
       "\\begin{tabular}{r|llllll}\n",
       "  & person & alder & kjoenn & aar\\_utdanning & kriminalitetsoffer & voldskriminalitetsoffer\\\\\n",
       "  & <int> & <dbl> & <chr> & <dbl> & <dbl> & <dbl>\\\\\n",
       "\\hline\n",
       "\t1 & 1 & 47 & M & 16 & 0 & 0\\\\\n",
       "\t2 & 2 & 45 & F & NA & 1 & 1\\\\\n",
       "\t3 & 3 & 19 & M & NA & 0 & 0\\\\\n",
       "\t4 & 4 & 21 & F & NA & 1 & 1\\\\\n",
       "\t5 & 5 & 24 & M & 12 & 1 & 1\\\\\n",
       "\t6 & 6 & 41 & F & NA & 0 & 0\\\\\n",
       "\\end{tabular}\n"
      ],
      "text/markdown": [
       "\n",
       "A data.frame: 6 × 6\n",
       "\n",
       "| <!--/--> | person &lt;int&gt; | alder &lt;dbl&gt; | kjoenn &lt;chr&gt; | aar_utdanning &lt;dbl&gt; | kriminalitetsoffer &lt;dbl&gt; | voldskriminalitetsoffer &lt;dbl&gt; |\n",
       "|---|---|---|---|---|---|---|\n",
       "| 1 | 1 | 47 | M | 16 | 0 | 0 |\n",
       "| 2 | 2 | 45 | F | NA | 1 | 1 |\n",
       "| 3 | 3 | 19 | M | NA | 0 | 0 |\n",
       "| 4 | 4 | 21 | F | NA | 1 | 1 |\n",
       "| 5 | 5 | 24 | M | 12 | 1 | 1 |\n",
       "| 6 | 6 | 41 | F | NA | 0 | 0 |\n",
       "\n"
      ],
      "text/plain": [
       "  person alder kjoenn aar_utdanning kriminalitetsoffer voldskriminalitetsoffer\n",
       "1 1      47    M      16            0                  0                      \n",
       "2 2      45    F      NA            1                  1                      \n",
       "3 3      19    M      NA            0                  0                      \n",
       "4 4      21    F      NA            1                  1                      \n",
       "5 5      24    M      12            1                  1                      \n",
       "6 6      41    F      NA            0                  0                      "
      ]
     },
     "metadata": {},
     "output_type": "display_data"
    }
   ],
   "source": [
    "library(magrittr)\n",
    "\n",
    "head(offer)\n",
    "m1_3 <- modifier(if (voldskriminalitetsoffer == 1 & (is.na(kriminalitetsoffer)| kriminalitetsoffer == 0) )  kriminalitetsoffer <- 1,   \n",
    "            if (kriminalitetsoffer == 0 & (is.na(voldskriminalitetsoffer)| voldskriminalitetsoffer == 1) ) voldskriminalitetsoffer <- 0 )\n",
    "offer  <-  modify(offer, m1_3)\n",
    " \n",
    "offer %<>% modify_so(if (voldskriminalitetsoffer == 1 & (is.na(kriminalitetsoffer)| kriminalitetsoffer == 0) )  kriminalitetsoffer <- 1,   \n",
    "                if (kriminalitetsoffer == 0 & (is.na(voldskriminalitetsoffer)| voldskriminalitetsoffer == 1) ) voldskriminalitetsoffer <- 0 )"
   ]
  },
  {
   "cell_type": "markdown",
   "id": "0604cb31-47d1-4e33-a151-425bd86e7689",
   "metadata": {},
   "source": [
    "### Oppgave 1.4\n",
    "- Imputer aar_utdaning der mangler verdier. Bruk gjennomsnitt-imputering. Her kan brukes både dcmodify og simputation pakker\n",
    "- Lag resultater til en ny datasett: offer_1_4 med dcmodify"
   ]
  },
  {
   "cell_type": "code",
   "execution_count": 18,
   "id": "ea0d4d6f-2faa-43f1-9efa-3c879808bbc4",
   "metadata": {},
   "outputs": [],
   "source": [
    "# Med dcmodify\n",
    "offer %>% modify_so(if (is.na(aar_utdanning))  aar_utdanning <- round(mean(offer$aar_utdanning, na.rm =TRUE)) ) -> offer_1_4\n",
    "head(offer_1_4)"
   ]
  },
  {
   "cell_type": "code",
   "execution_count": 19,
   "id": "d746fb80-d975-4546-a3b0-555760ce699b",
   "metadata": {},
   "outputs": [],
   "source": [
    "# Med simputation\n",
    "library(simputation)\n",
    "offer %>% impute_proxy(aar_utdanning ~ mean(aar_utdanning, na.rm =TRUE)) -> offer_1_4\n",
    "head(offer_1_4)"
   ]
  },
  {
   "cell_type": "markdown",
   "id": "d85d8a52-10bc-49b2-8aa7-51e2dfd8f7e6",
   "metadata": {},
   "source": [
    "<a id = 'del2'></a>\n",
    "## Del 2\n",
    "### Oppgave 2.1\n",
    "- Del personer i celler og bruk stratifisert gjennomsnitt-imputering for aar_utdanning. Bruk pakke simputation\n",
    "- Grupper spesifiseres etter kjønn og alder <=34 & > 34\n",
    "- Lag resultater til en ny datasett: offer_2_1"
   ]
  },
  {
   "cell_type": "code",
   "execution_count": 22,
   "id": "10569ad9-a961-49d0-9fe3-b7611de2131f",
   "metadata": {},
   "outputs": [
    {
     "data": {
      "text/html": [
       "<table class=\"dataframe\">\n",
       "<caption>A data.frame: 20 × 7</caption>\n",
       "<thead>\n",
       "\t<tr><th scope=col>person</th><th scope=col>alder</th><th scope=col>kjoenn</th><th scope=col>aar_utdanning</th><th scope=col>kriminalitetsoffer</th><th scope=col>voldskriminalitetsoffer</th><th scope=col>celle</th></tr>\n",
       "\t<tr><th scope=col>&lt;int&gt;</th><th scope=col>&lt;dbl&gt;</th><th scope=col>&lt;chr&gt;</th><th scope=col>&lt;dbl&gt;</th><th scope=col>&lt;dbl&gt;</th><th scope=col>&lt;dbl&gt;</th><th scope=col>&lt;chr&gt;</th></tr>\n",
       "</thead>\n",
       "<tbody>\n",
       "\t<tr><td> 1</td><td>47</td><td>M</td><td>16.00000</td><td> 0</td><td> 0</td><td>M1</td></tr>\n",
       "\t<tr><td> 2</td><td>45</td><td>F</td><td>12.25000</td><td> 1</td><td> 1</td><td>F1</td></tr>\n",
       "\t<tr><td> 3</td><td>19</td><td>M</td><td>12.66667</td><td> 0</td><td> 0</td><td>M0</td></tr>\n",
       "\t<tr><td> 4</td><td>21</td><td>F</td><td>11.25000</td><td> 1</td><td> 1</td><td>F0</td></tr>\n",
       "\t<tr><td> 5</td><td>24</td><td>M</td><td>12.00000</td><td> 1</td><td> 1</td><td>M0</td></tr>\n",
       "\t<tr><td> 6</td><td>41</td><td>F</td><td>12.25000</td><td> 0</td><td> 0</td><td>F1</td></tr>\n",
       "\t<tr><td> 7</td><td>36</td><td>M</td><td>20.00000</td><td> 1</td><td>NA</td><td>M1</td></tr>\n",
       "\t<tr><td> 8</td><td>50</td><td>M</td><td>12.00000</td><td> 0</td><td> 0</td><td>M1</td></tr>\n",
       "\t<tr><td> 9</td><td>53</td><td>F</td><td>13.00000</td><td> 0</td><td> 0</td><td>F1</td></tr>\n",
       "\t<tr><td>10</td><td>17</td><td>M</td><td>10.00000</td><td>NA</td><td>NA</td><td>M0</td></tr>\n",
       "\t<tr><td>11</td><td>53</td><td>F</td><td>12.00000</td><td> 0</td><td> 0</td><td>F1</td></tr>\n",
       "\t<tr><td>12</td><td>21</td><td>F</td><td>12.00000</td><td> 0</td><td> 0</td><td>F0</td></tr>\n",
       "\t<tr><td>13</td><td>18</td><td>F</td><td>11.00000</td><td> 1</td><td>NA</td><td>F0</td></tr>\n",
       "\t<tr><td>14</td><td>34</td><td>M</td><td>16.00000</td><td> 1</td><td> 0</td><td>M0</td></tr>\n",
       "\t<tr><td>15</td><td>44</td><td>M</td><td>14.00000</td><td> 0</td><td> 0</td><td>M1</td></tr>\n",
       "\t<tr><td>16</td><td>45</td><td>M</td><td>11.00000</td><td> 0</td><td> 0</td><td>M1</td></tr>\n",
       "\t<tr><td>17</td><td>54</td><td>F</td><td>14.00000</td><td> 0</td><td> 0</td><td>F1</td></tr>\n",
       "\t<tr><td>18</td><td>55</td><td>F</td><td>10.00000</td><td> 0</td><td> 0</td><td>F1</td></tr>\n",
       "\t<tr><td>19</td><td>29</td><td>F</td><td>12.00000</td><td>NA</td><td> 0</td><td>F0</td></tr>\n",
       "\t<tr><td>20</td><td>32</td><td>F</td><td>10.00000</td><td> 0</td><td> 0</td><td>F0</td></tr>\n",
       "</tbody>\n",
       "</table>\n"
      ],
      "text/latex": [
       "A data.frame: 20 × 7\n",
       "\\begin{tabular}{lllllll}\n",
       " person & alder & kjoenn & aar\\_utdanning & kriminalitetsoffer & voldskriminalitetsoffer & celle\\\\\n",
       " <int> & <dbl> & <chr> & <dbl> & <dbl> & <dbl> & <chr>\\\\\n",
       "\\hline\n",
       "\t  1 & 47 & M & 16.00000 &  0 &  0 & M1\\\\\n",
       "\t  2 & 45 & F & 12.25000 &  1 &  1 & F1\\\\\n",
       "\t  3 & 19 & M & 12.66667 &  0 &  0 & M0\\\\\n",
       "\t  4 & 21 & F & 11.25000 &  1 &  1 & F0\\\\\n",
       "\t  5 & 24 & M & 12.00000 &  1 &  1 & M0\\\\\n",
       "\t  6 & 41 & F & 12.25000 &  0 &  0 & F1\\\\\n",
       "\t  7 & 36 & M & 20.00000 &  1 & NA & M1\\\\\n",
       "\t  8 & 50 & M & 12.00000 &  0 &  0 & M1\\\\\n",
       "\t  9 & 53 & F & 13.00000 &  0 &  0 & F1\\\\\n",
       "\t 10 & 17 & M & 10.00000 & NA & NA & M0\\\\\n",
       "\t 11 & 53 & F & 12.00000 &  0 &  0 & F1\\\\\n",
       "\t 12 & 21 & F & 12.00000 &  0 &  0 & F0\\\\\n",
       "\t 13 & 18 & F & 11.00000 &  1 & NA & F0\\\\\n",
       "\t 14 & 34 & M & 16.00000 &  1 &  0 & M0\\\\\n",
       "\t 15 & 44 & M & 14.00000 &  0 &  0 & M1\\\\\n",
       "\t 16 & 45 & M & 11.00000 &  0 &  0 & M1\\\\\n",
       "\t 17 & 54 & F & 14.00000 &  0 &  0 & F1\\\\\n",
       "\t 18 & 55 & F & 10.00000 &  0 &  0 & F1\\\\\n",
       "\t 19 & 29 & F & 12.00000 & NA &  0 & F0\\\\\n",
       "\t 20 & 32 & F & 10.00000 &  0 &  0 & F0\\\\\n",
       "\\end{tabular}\n"
      ],
      "text/markdown": [
       "\n",
       "A data.frame: 20 × 7\n",
       "\n",
       "| person &lt;int&gt; | alder &lt;dbl&gt; | kjoenn &lt;chr&gt; | aar_utdanning &lt;dbl&gt; | kriminalitetsoffer &lt;dbl&gt; | voldskriminalitetsoffer &lt;dbl&gt; | celle &lt;chr&gt; |\n",
       "|---|---|---|---|---|---|---|\n",
       "|  1 | 47 | M | 16.00000 |  0 |  0 | M1 |\n",
       "|  2 | 45 | F | 12.25000 |  1 |  1 | F1 |\n",
       "|  3 | 19 | M | 12.66667 |  0 |  0 | M0 |\n",
       "|  4 | 21 | F | 11.25000 |  1 |  1 | F0 |\n",
       "|  5 | 24 | M | 12.00000 |  1 |  1 | M0 |\n",
       "|  6 | 41 | F | 12.25000 |  0 |  0 | F1 |\n",
       "|  7 | 36 | M | 20.00000 |  1 | NA | M1 |\n",
       "|  8 | 50 | M | 12.00000 |  0 |  0 | M1 |\n",
       "|  9 | 53 | F | 13.00000 |  0 |  0 | F1 |\n",
       "| 10 | 17 | M | 10.00000 | NA | NA | M0 |\n",
       "| 11 | 53 | F | 12.00000 |  0 |  0 | F1 |\n",
       "| 12 | 21 | F | 12.00000 |  0 |  0 | F0 |\n",
       "| 13 | 18 | F | 11.00000 |  1 | NA | F0 |\n",
       "| 14 | 34 | M | 16.00000 |  1 |  0 | M0 |\n",
       "| 15 | 44 | M | 14.00000 |  0 |  0 | M1 |\n",
       "| 16 | 45 | M | 11.00000 |  0 |  0 | M1 |\n",
       "| 17 | 54 | F | 14.00000 |  0 |  0 | F1 |\n",
       "| 18 | 55 | F | 10.00000 |  0 |  0 | F1 |\n",
       "| 19 | 29 | F | 12.00000 | NA |  0 | F0 |\n",
       "| 20 | 32 | F | 10.00000 |  0 |  0 | F0 |\n",
       "\n"
      ],
      "text/plain": [
       "   person alder kjoenn aar_utdanning kriminalitetsoffer voldskriminalitetsoffer\n",
       "1   1     47    M      16.00000       0                  0                     \n",
       "2   2     45    F      12.25000       1                  1                     \n",
       "3   3     19    M      12.66667       0                  0                     \n",
       "4   4     21    F      11.25000       1                  1                     \n",
       "5   5     24    M      12.00000       1                  1                     \n",
       "6   6     41    F      12.25000       0                  0                     \n",
       "7   7     36    M      20.00000       1                 NA                     \n",
       "8   8     50    M      12.00000       0                  0                     \n",
       "9   9     53    F      13.00000       0                  0                     \n",
       "10 10     17    M      10.00000      NA                 NA                     \n",
       "11 11     53    F      12.00000       0                  0                     \n",
       "12 12     21    F      12.00000       0                  0                     \n",
       "13 13     18    F      11.00000       1                 NA                     \n",
       "14 14     34    M      16.00000       1                  0                     \n",
       "15 15     44    M      14.00000       0                  0                     \n",
       "16 16     45    M      11.00000       0                  0                     \n",
       "17 17     54    F      14.00000       0                  0                     \n",
       "18 18     55    F      10.00000       0                  0                     \n",
       "19 19     29    F      12.00000      NA                  0                     \n",
       "20 20     32    F      10.00000       0                  0                     \n",
       "   celle\n",
       "1  M1   \n",
       "2  F1   \n",
       "3  M0   \n",
       "4  F0   \n",
       "5  M0   \n",
       "6  F1   \n",
       "7  M1   \n",
       "8  M1   \n",
       "9  F1   \n",
       "10 M0   \n",
       "11 F1   \n",
       "12 F0   \n",
       "13 F0   \n",
       "14 M0   \n",
       "15 M1   \n",
       "16 M1   \n",
       "17 F1   \n",
       "18 F1   \n",
       "19 F0   \n",
       "20 F0   "
      ]
     },
     "metadata": {},
     "output_type": "display_data"
    }
   ],
   "source": [
    "library(simputation)\n",
    "\n",
    "offer$celle <- paste0(offer$kjoenn, sign(offer$alder > 34))\n",
    "offer %>% impute_proxy(aar_utdanning ~ mean(aar_utdanning, na.rm =TRUE)|celle) -> offer_2_1\n",
    "offer_2_1"
   ]
  },
  {
   "cell_type": "markdown",
   "id": "286079f9-0f5f-485e-a7bb-181491c7b45a",
   "metadata": {},
   "source": [
    "### Oppgave 2.2\n",
    "- Bruk samme datasett som i øvelser 1, Task 4. Bruk nærmest nabo hotdeck imputering for variabel kriminalitetsoffer og voldskriminalitetsoffer.\n",
    "- Bruk alder og kjønn for å beregne avstand"
   ]
  },
  {
   "cell_type": "code",
   "execution_count": 23,
   "id": "02e29175-37ec-40ee-ad84-d1db67c16bef",
   "metadata": {},
   "outputs": [
    {
     "data": {
      "text/html": [
       "<table class=\"dataframe\">\n",
       "<caption>A data.frame: 20 × 7</caption>\n",
       "<thead>\n",
       "\t<tr><th></th><th scope=col>person</th><th scope=col>alder</th><th scope=col>kjoenn</th><th scope=col>aar_utdanning</th><th scope=col>kriminalitetsoffer</th><th scope=col>voldskriminalitetsoffer</th><th scope=col>celle</th></tr>\n",
       "\t<tr><th></th><th scope=col>&lt;int&gt;</th><th scope=col>&lt;dbl&gt;</th><th scope=col>&lt;chr&gt;</th><th scope=col>&lt;dbl&gt;</th><th scope=col>&lt;dbl&gt;</th><th scope=col>&lt;dbl&gt;</th><th scope=col>&lt;chr&gt;</th></tr>\n",
       "</thead>\n",
       "<tbody>\n",
       "\t<tr><th scope=row>1</th><td> 1</td><td>47</td><td>M</td><td>16</td><td>0</td><td>0</td><td>M1</td></tr>\n",
       "\t<tr><th scope=row>2</th><td> 2</td><td>45</td><td>F</td><td>11</td><td>1</td><td>1</td><td>F1</td></tr>\n",
       "\t<tr><th scope=row>3</th><td> 3</td><td>19</td><td>M</td><td>12</td><td>0</td><td>0</td><td>M0</td></tr>\n",
       "\t<tr><th scope=row>4</th><td> 4</td><td>21</td><td>F</td><td>12</td><td>1</td><td>1</td><td>F0</td></tr>\n",
       "\t<tr><th scope=row>5</th><td> 5</td><td>24</td><td>M</td><td>12</td><td>1</td><td>1</td><td>M0</td></tr>\n",
       "\t<tr><th scope=row>6</th><td> 6</td><td>41</td><td>F</td><td>14</td><td>0</td><td>0</td><td>F1</td></tr>\n",
       "\t<tr><th scope=row>7</th><td> 7</td><td>36</td><td>M</td><td>20</td><td>1</td><td>0</td><td>M1</td></tr>\n",
       "\t<tr><th scope=row>8</th><td> 8</td><td>50</td><td>M</td><td>12</td><td>0</td><td>0</td><td>M1</td></tr>\n",
       "\t<tr><th scope=row>9</th><td> 9</td><td>53</td><td>F</td><td>13</td><td>0</td><td>0</td><td>F1</td></tr>\n",
       "\t<tr><th scope=row>10</th><td>10</td><td>17</td><td>M</td><td>10</td><td>0</td><td>0</td><td>M0</td></tr>\n",
       "\t<tr><th scope=row>11</th><td>11</td><td>53</td><td>F</td><td>12</td><td>0</td><td>0</td><td>F1</td></tr>\n",
       "\t<tr><th scope=row>12</th><td>12</td><td>21</td><td>F</td><td>12</td><td>0</td><td>0</td><td>F0</td></tr>\n",
       "\t<tr><th scope=row>13</th><td>13</td><td>18</td><td>F</td><td>11</td><td>1</td><td>0</td><td>F0</td></tr>\n",
       "\t<tr><th scope=row>14</th><td>14</td><td>34</td><td>M</td><td>16</td><td>1</td><td>0</td><td>M0</td></tr>\n",
       "\t<tr><th scope=row>15</th><td>15</td><td>44</td><td>M</td><td>14</td><td>0</td><td>0</td><td>M1</td></tr>\n",
       "\t<tr><th scope=row>16</th><td>16</td><td>45</td><td>M</td><td>11</td><td>0</td><td>0</td><td>M1</td></tr>\n",
       "\t<tr><th scope=row>17</th><td>17</td><td>54</td><td>F</td><td>14</td><td>0</td><td>0</td><td>F1</td></tr>\n",
       "\t<tr><th scope=row>18</th><td>18</td><td>55</td><td>F</td><td>10</td><td>0</td><td>0</td><td>F1</td></tr>\n",
       "\t<tr><th scope=row>19</th><td>19</td><td>29</td><td>F</td><td>12</td><td>0</td><td>0</td><td>F0</td></tr>\n",
       "\t<tr><th scope=row>20</th><td>20</td><td>32</td><td>F</td><td>10</td><td>0</td><td>0</td><td>F0</td></tr>\n",
       "</tbody>\n",
       "</table>\n"
      ],
      "text/latex": [
       "A data.frame: 20 × 7\n",
       "\\begin{tabular}{r|lllllll}\n",
       "  & person & alder & kjoenn & aar\\_utdanning & kriminalitetsoffer & voldskriminalitetsoffer & celle\\\\\n",
       "  & <int> & <dbl> & <chr> & <dbl> & <dbl> & <dbl> & <chr>\\\\\n",
       "\\hline\n",
       "\t1 &  1 & 47 & M & 16 & 0 & 0 & M1\\\\\n",
       "\t2 &  2 & 45 & F & 11 & 1 & 1 & F1\\\\\n",
       "\t3 &  3 & 19 & M & 12 & 0 & 0 & M0\\\\\n",
       "\t4 &  4 & 21 & F & 12 & 1 & 1 & F0\\\\\n",
       "\t5 &  5 & 24 & M & 12 & 1 & 1 & M0\\\\\n",
       "\t6 &  6 & 41 & F & 14 & 0 & 0 & F1\\\\\n",
       "\t7 &  7 & 36 & M & 20 & 1 & 0 & M1\\\\\n",
       "\t8 &  8 & 50 & M & 12 & 0 & 0 & M1\\\\\n",
       "\t9 &  9 & 53 & F & 13 & 0 & 0 & F1\\\\\n",
       "\t10 & 10 & 17 & M & 10 & 0 & 0 & M0\\\\\n",
       "\t11 & 11 & 53 & F & 12 & 0 & 0 & F1\\\\\n",
       "\t12 & 12 & 21 & F & 12 & 0 & 0 & F0\\\\\n",
       "\t13 & 13 & 18 & F & 11 & 1 & 0 & F0\\\\\n",
       "\t14 & 14 & 34 & M & 16 & 1 & 0 & M0\\\\\n",
       "\t15 & 15 & 44 & M & 14 & 0 & 0 & M1\\\\\n",
       "\t16 & 16 & 45 & M & 11 & 0 & 0 & M1\\\\\n",
       "\t17 & 17 & 54 & F & 14 & 0 & 0 & F1\\\\\n",
       "\t18 & 18 & 55 & F & 10 & 0 & 0 & F1\\\\\n",
       "\t19 & 19 & 29 & F & 12 & 0 & 0 & F0\\\\\n",
       "\t20 & 20 & 32 & F & 10 & 0 & 0 & F0\\\\\n",
       "\\end{tabular}\n"
      ],
      "text/markdown": [
       "\n",
       "A data.frame: 20 × 7\n",
       "\n",
       "| <!--/--> | person &lt;int&gt; | alder &lt;dbl&gt; | kjoenn &lt;chr&gt; | aar_utdanning &lt;dbl&gt; | kriminalitetsoffer &lt;dbl&gt; | voldskriminalitetsoffer &lt;dbl&gt; | celle &lt;chr&gt; |\n",
       "|---|---|---|---|---|---|---|---|\n",
       "| 1 |  1 | 47 | M | 16 | 0 | 0 | M1 |\n",
       "| 2 |  2 | 45 | F | 11 | 1 | 1 | F1 |\n",
       "| 3 |  3 | 19 | M | 12 | 0 | 0 | M0 |\n",
       "| 4 |  4 | 21 | F | 12 | 1 | 1 | F0 |\n",
       "| 5 |  5 | 24 | M | 12 | 1 | 1 | M0 |\n",
       "| 6 |  6 | 41 | F | 14 | 0 | 0 | F1 |\n",
       "| 7 |  7 | 36 | M | 20 | 1 | 0 | M1 |\n",
       "| 8 |  8 | 50 | M | 12 | 0 | 0 | M1 |\n",
       "| 9 |  9 | 53 | F | 13 | 0 | 0 | F1 |\n",
       "| 10 | 10 | 17 | M | 10 | 0 | 0 | M0 |\n",
       "| 11 | 11 | 53 | F | 12 | 0 | 0 | F1 |\n",
       "| 12 | 12 | 21 | F | 12 | 0 | 0 | F0 |\n",
       "| 13 | 13 | 18 | F | 11 | 1 | 0 | F0 |\n",
       "| 14 | 14 | 34 | M | 16 | 1 | 0 | M0 |\n",
       "| 15 | 15 | 44 | M | 14 | 0 | 0 | M1 |\n",
       "| 16 | 16 | 45 | M | 11 | 0 | 0 | M1 |\n",
       "| 17 | 17 | 54 | F | 14 | 0 | 0 | F1 |\n",
       "| 18 | 18 | 55 | F | 10 | 0 | 0 | F1 |\n",
       "| 19 | 19 | 29 | F | 12 | 0 | 0 | F0 |\n",
       "| 20 | 20 | 32 | F | 10 | 0 | 0 | F0 |\n",
       "\n"
      ],
      "text/plain": [
       "   person alder kjoenn aar_utdanning kriminalitetsoffer voldskriminalitetsoffer\n",
       "1   1     47    M      16            0                  0                      \n",
       "2   2     45    F      11            1                  1                      \n",
       "3   3     19    M      12            0                  0                      \n",
       "4   4     21    F      12            1                  1                      \n",
       "5   5     24    M      12            1                  1                      \n",
       "6   6     41    F      14            0                  0                      \n",
       "7   7     36    M      20            1                  0                      \n",
       "8   8     50    M      12            0                  0                      \n",
       "9   9     53    F      13            0                  0                      \n",
       "10 10     17    M      10            0                  0                      \n",
       "11 11     53    F      12            0                  0                      \n",
       "12 12     21    F      12            0                  0                      \n",
       "13 13     18    F      11            1                  0                      \n",
       "14 14     34    M      16            1                  0                      \n",
       "15 15     44    M      14            0                  0                      \n",
       "16 16     45    M      11            0                  0                      \n",
       "17 17     54    F      14            0                  0                      \n",
       "18 18     55    F      10            0                  0                      \n",
       "19 19     29    F      12            0                  0                      \n",
       "20 20     32    F      10            0                  0                      \n",
       "   celle\n",
       "1  M1   \n",
       "2  F1   \n",
       "3  M0   \n",
       "4  F0   \n",
       "5  M0   \n",
       "6  F1   \n",
       "7  M1   \n",
       "8  M1   \n",
       "9  F1   \n",
       "10 M0   \n",
       "11 F1   \n",
       "12 F0   \n",
       "13 F0   \n",
       "14 M0   \n",
       "15 M1   \n",
       "16 M1   \n",
       "17 F1   \n",
       "18 F1   \n",
       "19 F0   \n",
       "20 F0   "
      ]
     },
     "metadata": {},
     "output_type": "display_data"
    },
    {
     "data": {
      "text/html": [
       "<table class=\"dataframe\">\n",
       "<caption>A data.frame: 20 × 8</caption>\n",
       "<thead>\n",
       "\t<tr><th></th><th scope=col>person</th><th scope=col>alder</th><th scope=col>kjoenn</th><th scope=col>aar_utdanning</th><th scope=col>kriminalitetsoffer</th><th scope=col>voldskriminalitetsoffer</th><th scope=col>celle</th><th scope=col>nabo</th></tr>\n",
       "\t<tr><th></th><th scope=col>&lt;int&gt;</th><th scope=col>&lt;dbl&gt;</th><th scope=col>&lt;chr&gt;</th><th scope=col>&lt;dbl&gt;</th><th scope=col>&lt;dbl&gt;</th><th scope=col>&lt;dbl&gt;</th><th scope=col>&lt;chr&gt;</th><th scope=col>&lt;dbl&gt;</th></tr>\n",
       "</thead>\n",
       "<tbody>\n",
       "\t<tr><th scope=row>1</th><td> 1</td><td>47</td><td>M</td><td>16</td><td>0</td><td>0</td><td>M1</td><td> 1</td></tr>\n",
       "\t<tr><th scope=row>2</th><td> 2</td><td>45</td><td>F</td><td>11</td><td>1</td><td>1</td><td>F1</td><td>16</td></tr>\n",
       "\t<tr><th scope=row>3</th><td> 3</td><td>19</td><td>M</td><td>12</td><td>0</td><td>0</td><td>M0</td><td>12</td></tr>\n",
       "\t<tr><th scope=row>4</th><td> 4</td><td>21</td><td>F</td><td>12</td><td>1</td><td>1</td><td>F0</td><td>12</td></tr>\n",
       "\t<tr><th scope=row>5</th><td> 5</td><td>24</td><td>M</td><td>12</td><td>1</td><td>1</td><td>M0</td><td> 5</td></tr>\n",
       "\t<tr><th scope=row>6</th><td> 6</td><td>41</td><td>F</td><td>14</td><td>0</td><td>0</td><td>F1</td><td>15</td></tr>\n",
       "\t<tr><th scope=row>7</th><td> 7</td><td>36</td><td>M</td><td>20</td><td>1</td><td>0</td><td>M1</td><td>14</td></tr>\n",
       "\t<tr><th scope=row>8</th><td> 8</td><td>50</td><td>M</td><td>12</td><td>0</td><td>0</td><td>M1</td><td> 8</td></tr>\n",
       "\t<tr><th scope=row>9</th><td> 9</td><td>53</td><td>F</td><td>13</td><td>0</td><td>0</td><td>F1</td><td> 9</td></tr>\n",
       "\t<tr><th scope=row>10</th><td>10</td><td>17</td><td>M</td><td>10</td><td>0</td><td>0</td><td>M0</td><td>12</td></tr>\n",
       "\t<tr><th scope=row>11</th><td>11</td><td>53</td><td>F</td><td>12</td><td>0</td><td>0</td><td>F1</td><td>11</td></tr>\n",
       "\t<tr><th scope=row>12</th><td>12</td><td>21</td><td>F</td><td>12</td><td>0</td><td>0</td><td>F0</td><td>12</td></tr>\n",
       "\t<tr><th scope=row>13</th><td>13</td><td>18</td><td>F</td><td>11</td><td>1</td><td>0</td><td>F0</td><td>12</td></tr>\n",
       "\t<tr><th scope=row>14</th><td>14</td><td>34</td><td>M</td><td>16</td><td>1</td><td>0</td><td>M0</td><td>14</td></tr>\n",
       "\t<tr><th scope=row>15</th><td>15</td><td>44</td><td>M</td><td>14</td><td>0</td><td>0</td><td>M1</td><td>15</td></tr>\n",
       "\t<tr><th scope=row>16</th><td>16</td><td>45</td><td>M</td><td>11</td><td>0</td><td>0</td><td>M1</td><td>16</td></tr>\n",
       "\t<tr><th scope=row>17</th><td>17</td><td>54</td><td>F</td><td>14</td><td>0</td><td>0</td><td>F1</td><td>17</td></tr>\n",
       "\t<tr><th scope=row>18</th><td>18</td><td>55</td><td>F</td><td>10</td><td>0</td><td>0</td><td>F1</td><td>18</td></tr>\n",
       "\t<tr><th scope=row>19</th><td>19</td><td>29</td><td>F</td><td>12</td><td>0</td><td>0</td><td>F0</td><td>20</td></tr>\n",
       "\t<tr><th scope=row>20</th><td>20</td><td>32</td><td>F</td><td>10</td><td>0</td><td>0</td><td>F0</td><td>20</td></tr>\n",
       "</tbody>\n",
       "</table>\n"
      ],
      "text/latex": [
       "A data.frame: 20 × 8\n",
       "\\begin{tabular}{r|llllllll}\n",
       "  & person & alder & kjoenn & aar\\_utdanning & kriminalitetsoffer & voldskriminalitetsoffer & celle & nabo\\\\\n",
       "  & <int> & <dbl> & <chr> & <dbl> & <dbl> & <dbl> & <chr> & <dbl>\\\\\n",
       "\\hline\n",
       "\t1 &  1 & 47 & M & 16 & 0 & 0 & M1 &  1\\\\\n",
       "\t2 &  2 & 45 & F & 11 & 1 & 1 & F1 & 16\\\\\n",
       "\t3 &  3 & 19 & M & 12 & 0 & 0 & M0 & 12\\\\\n",
       "\t4 &  4 & 21 & F & 12 & 1 & 1 & F0 & 12\\\\\n",
       "\t5 &  5 & 24 & M & 12 & 1 & 1 & M0 &  5\\\\\n",
       "\t6 &  6 & 41 & F & 14 & 0 & 0 & F1 & 15\\\\\n",
       "\t7 &  7 & 36 & M & 20 & 1 & 0 & M1 & 14\\\\\n",
       "\t8 &  8 & 50 & M & 12 & 0 & 0 & M1 &  8\\\\\n",
       "\t9 &  9 & 53 & F & 13 & 0 & 0 & F1 &  9\\\\\n",
       "\t10 & 10 & 17 & M & 10 & 0 & 0 & M0 & 12\\\\\n",
       "\t11 & 11 & 53 & F & 12 & 0 & 0 & F1 & 11\\\\\n",
       "\t12 & 12 & 21 & F & 12 & 0 & 0 & F0 & 12\\\\\n",
       "\t13 & 13 & 18 & F & 11 & 1 & 0 & F0 & 12\\\\\n",
       "\t14 & 14 & 34 & M & 16 & 1 & 0 & M0 & 14\\\\\n",
       "\t15 & 15 & 44 & M & 14 & 0 & 0 & M1 & 15\\\\\n",
       "\t16 & 16 & 45 & M & 11 & 0 & 0 & M1 & 16\\\\\n",
       "\t17 & 17 & 54 & F & 14 & 0 & 0 & F1 & 17\\\\\n",
       "\t18 & 18 & 55 & F & 10 & 0 & 0 & F1 & 18\\\\\n",
       "\t19 & 19 & 29 & F & 12 & 0 & 0 & F0 & 20\\\\\n",
       "\t20 & 20 & 32 & F & 10 & 0 & 0 & F0 & 20\\\\\n",
       "\\end{tabular}\n"
      ],
      "text/markdown": [
       "\n",
       "A data.frame: 20 × 8\n",
       "\n",
       "| <!--/--> | person &lt;int&gt; | alder &lt;dbl&gt; | kjoenn &lt;chr&gt; | aar_utdanning &lt;dbl&gt; | kriminalitetsoffer &lt;dbl&gt; | voldskriminalitetsoffer &lt;dbl&gt; | celle &lt;chr&gt; | nabo &lt;dbl&gt; |\n",
       "|---|---|---|---|---|---|---|---|---|\n",
       "| 1 |  1 | 47 | M | 16 | 0 | 0 | M1 |  1 |\n",
       "| 2 |  2 | 45 | F | 11 | 1 | 1 | F1 | 16 |\n",
       "| 3 |  3 | 19 | M | 12 | 0 | 0 | M0 | 12 |\n",
       "| 4 |  4 | 21 | F | 12 | 1 | 1 | F0 | 12 |\n",
       "| 5 |  5 | 24 | M | 12 | 1 | 1 | M0 |  5 |\n",
       "| 6 |  6 | 41 | F | 14 | 0 | 0 | F1 | 15 |\n",
       "| 7 |  7 | 36 | M | 20 | 1 | 0 | M1 | 14 |\n",
       "| 8 |  8 | 50 | M | 12 | 0 | 0 | M1 |  8 |\n",
       "| 9 |  9 | 53 | F | 13 | 0 | 0 | F1 |  9 |\n",
       "| 10 | 10 | 17 | M | 10 | 0 | 0 | M0 | 12 |\n",
       "| 11 | 11 | 53 | F | 12 | 0 | 0 | F1 | 11 |\n",
       "| 12 | 12 | 21 | F | 12 | 0 | 0 | F0 | 12 |\n",
       "| 13 | 13 | 18 | F | 11 | 1 | 0 | F0 | 12 |\n",
       "| 14 | 14 | 34 | M | 16 | 1 | 0 | M0 | 14 |\n",
       "| 15 | 15 | 44 | M | 14 | 0 | 0 | M1 | 15 |\n",
       "| 16 | 16 | 45 | M | 11 | 0 | 0 | M1 | 16 |\n",
       "| 17 | 17 | 54 | F | 14 | 0 | 0 | F1 | 17 |\n",
       "| 18 | 18 | 55 | F | 10 | 0 | 0 | F1 | 18 |\n",
       "| 19 | 19 | 29 | F | 12 | 0 | 0 | F0 | 20 |\n",
       "| 20 | 20 | 32 | F | 10 | 0 | 0 | F0 | 20 |\n",
       "\n"
      ],
      "text/plain": [
       "   person alder kjoenn aar_utdanning kriminalitetsoffer voldskriminalitetsoffer\n",
       "1   1     47    M      16            0                  0                      \n",
       "2   2     45    F      11            1                  1                      \n",
       "3   3     19    M      12            0                  0                      \n",
       "4   4     21    F      12            1                  1                      \n",
       "5   5     24    M      12            1                  1                      \n",
       "6   6     41    F      14            0                  0                      \n",
       "7   7     36    M      20            1                  0                      \n",
       "8   8     50    M      12            0                  0                      \n",
       "9   9     53    F      13            0                  0                      \n",
       "10 10     17    M      10            0                  0                      \n",
       "11 11     53    F      12            0                  0                      \n",
       "12 12     21    F      12            0                  0                      \n",
       "13 13     18    F      11            1                  0                      \n",
       "14 14     34    M      16            1                  0                      \n",
       "15 15     44    M      14            0                  0                      \n",
       "16 16     45    M      11            0                  0                      \n",
       "17 17     54    F      14            0                  0                      \n",
       "18 18     55    F      10            0                  0                      \n",
       "19 19     29    F      12            0                  0                      \n",
       "20 20     32    F      10            0                  0                      \n",
       "   celle nabo\n",
       "1  M1     1  \n",
       "2  F1    16  \n",
       "3  M0    12  \n",
       "4  F0    12  \n",
       "5  M0     5  \n",
       "6  F1    15  \n",
       "7  M1    14  \n",
       "8  M1     8  \n",
       "9  F1     9  \n",
       "10 M0    12  \n",
       "11 F1    11  \n",
       "12 F0    12  \n",
       "13 F0    12  \n",
       "14 M0    14  \n",
       "15 M1    15  \n",
       "16 M1    16  \n",
       "17 F1    17  \n",
       "18 F1    18  \n",
       "19 F0    20  \n",
       "20 F0    20  "
      ]
     },
     "metadata": {},
     "output_type": "display_data"
    }
   ],
   "source": [
    "set.seed(1000)\n",
    "offer %>% impute_knn(aar_utdanning + kriminalitetsoffer + voldskriminalitetsoffer ~ alder + kjoenn, pool = \"complete\", k = 1) -> offer_2_2\n",
    "offer_2_2\n",
    "\n",
    "# NB: for å kontrollere hvem ble bruk som nabo kan oppretes variabel som inneholder person nummer med satt NA verdier der kriminalitetsoffer mangler: \n",
    "t <- offer\n",
    "t$nabo <- t$person\n",
    "t$nabo[is.na(t$aar_utdanning)|is.na(t$kriminalitetsoffer)|is.na(t$voldskriminalitetsoffer)] <- NA\n",
    "set.seed(1000)\n",
    "t %>% impute_knn(aar_utdanning + kriminalitetsoffer + voldskriminalitetsoffer + nabo ~ alder + kjoenn, pool = \"complete\", k = 1)\n"
   ]
  },
  {
   "cell_type": "markdown",
   "id": "81c9dc2f-5d8b-49b3-8589-81562012a1b5",
   "metadata": {},
   "source": [
    "### Oppgave 2.3\n",
    "- Bruk samme datasett som i øvelser 1.4. Bruk Linear regresjon imputering for variabel kriminalitetsoffer og voldskriminalitetsoffer."
   ]
  },
  {
   "cell_type": "code",
   "execution_count": 25,
   "id": "6e24d328-55d2-45d6-8dbd-25261b9ffb52",
   "metadata": {},
   "outputs": [
    {
     "data": {
      "text/html": [
       "<table class=\"dataframe\">\n",
       "<caption>A data.frame: 20 × 7</caption>\n",
       "<thead>\n",
       "\t<tr><th></th><th scope=col>person</th><th scope=col>alder</th><th scope=col>kjoenn</th><th scope=col>aar_utdanning</th><th scope=col>kriminalitetsoffer</th><th scope=col>voldskriminalitetsoffer</th><th scope=col>celle</th></tr>\n",
       "\t<tr><th></th><th scope=col>&lt;int&gt;</th><th scope=col>&lt;dbl&gt;</th><th scope=col>&lt;chr&gt;</th><th scope=col>&lt;dbl&gt;</th><th scope=col>&lt;dbl&gt;</th><th scope=col>&lt;dbl&gt;</th><th scope=col>&lt;chr&gt;</th></tr>\n",
       "</thead>\n",
       "<tbody>\n",
       "\t<tr><th scope=row>1</th><td> 1</td><td>47</td><td>M</td><td>16.00000</td><td>0.0000000</td><td>0.0000000</td><td>M1</td></tr>\n",
       "\t<tr><th scope=row>2</th><td> 2</td><td>45</td><td>F</td><td>11.97911</td><td>1.0000000</td><td>1.0000000</td><td>F1</td></tr>\n",
       "\t<tr><th scope=row>3</th><td> 3</td><td>19</td><td>M</td><td>13.13677</td><td>0.0000000</td><td>0.0000000</td><td>M0</td></tr>\n",
       "\t<tr><th scope=row>4</th><td> 4</td><td>21</td><td>F</td><td>11.00159</td><td>1.0000000</td><td>1.0000000</td><td>F0</td></tr>\n",
       "\t<tr><th scope=row>5</th><td> 5</td><td>24</td><td>M</td><td>12.00000</td><td>1.0000000</td><td>1.0000000</td><td>M0</td></tr>\n",
       "\t<tr><th scope=row>6</th><td> 6</td><td>41</td><td>F</td><td>11.81619</td><td>0.0000000</td><td>0.0000000</td><td>F1</td></tr>\n",
       "\t<tr><th scope=row>7</th><td> 7</td><td>36</td><td>M</td><td>20.00000</td><td>1.0000000</td><td>0.1601906</td><td>M1</td></tr>\n",
       "\t<tr><th scope=row>8</th><td> 8</td><td>50</td><td>M</td><td>12.00000</td><td>0.0000000</td><td>0.0000000</td><td>M1</td></tr>\n",
       "\t<tr><th scope=row>9</th><td> 9</td><td>53</td><td>F</td><td>13.00000</td><td>0.0000000</td><td>0.0000000</td><td>F1</td></tr>\n",
       "\t<tr><th scope=row>10</th><td>10</td><td>17</td><td>M</td><td>10.00000</td><td>0.7362878</td><td>0.3697681</td><td>M0</td></tr>\n",
       "\t<tr><th scope=row>11</th><td>11</td><td>53</td><td>F</td><td>12.00000</td><td>0.0000000</td><td>0.0000000</td><td>F1</td></tr>\n",
       "\t<tr><th scope=row>12</th><td>12</td><td>21</td><td>F</td><td>12.00000</td><td>0.0000000</td><td>0.0000000</td><td>F0</td></tr>\n",
       "\t<tr><th scope=row>13</th><td>13</td><td>18</td><td>F</td><td>11.00000</td><td>1.0000000</td><td>0.4470808</td><td>F0</td></tr>\n",
       "\t<tr><th scope=row>14</th><td>14</td><td>34</td><td>M</td><td>16.00000</td><td>1.0000000</td><td>0.0000000</td><td>M0</td></tr>\n",
       "\t<tr><th scope=row>15</th><td>15</td><td>44</td><td>M</td><td>14.00000</td><td>0.0000000</td><td>0.0000000</td><td>M1</td></tr>\n",
       "\t<tr><th scope=row>16</th><td>16</td><td>45</td><td>M</td><td>11.00000</td><td>0.0000000</td><td>0.0000000</td><td>M1</td></tr>\n",
       "\t<tr><th scope=row>17</th><td>17</td><td>54</td><td>F</td><td>14.00000</td><td>0.0000000</td><td>0.0000000</td><td>F1</td></tr>\n",
       "\t<tr><th scope=row>18</th><td>18</td><td>55</td><td>F</td><td>10.00000</td><td>0.0000000</td><td>0.0000000</td><td>F1</td></tr>\n",
       "\t<tr><th scope=row>19</th><td>19</td><td>29</td><td>F</td><td>12.00000</td><td>0.4826387</td><td>0.0000000</td><td>F0</td></tr>\n",
       "\t<tr><th scope=row>20</th><td>20</td><td>32</td><td>F</td><td>10.00000</td><td>0.0000000</td><td>0.0000000</td><td>F0</td></tr>\n",
       "</tbody>\n",
       "</table>\n"
      ],
      "text/latex": [
       "A data.frame: 20 × 7\n",
       "\\begin{tabular}{r|lllllll}\n",
       "  & person & alder & kjoenn & aar\\_utdanning & kriminalitetsoffer & voldskriminalitetsoffer & celle\\\\\n",
       "  & <int> & <dbl> & <chr> & <dbl> & <dbl> & <dbl> & <chr>\\\\\n",
       "\\hline\n",
       "\t1 &  1 & 47 & M & 16.00000 & 0.0000000 & 0.0000000 & M1\\\\\n",
       "\t2 &  2 & 45 & F & 11.97911 & 1.0000000 & 1.0000000 & F1\\\\\n",
       "\t3 &  3 & 19 & M & 13.13677 & 0.0000000 & 0.0000000 & M0\\\\\n",
       "\t4 &  4 & 21 & F & 11.00159 & 1.0000000 & 1.0000000 & F0\\\\\n",
       "\t5 &  5 & 24 & M & 12.00000 & 1.0000000 & 1.0000000 & M0\\\\\n",
       "\t6 &  6 & 41 & F & 11.81619 & 0.0000000 & 0.0000000 & F1\\\\\n",
       "\t7 &  7 & 36 & M & 20.00000 & 1.0000000 & 0.1601906 & M1\\\\\n",
       "\t8 &  8 & 50 & M & 12.00000 & 0.0000000 & 0.0000000 & M1\\\\\n",
       "\t9 &  9 & 53 & F & 13.00000 & 0.0000000 & 0.0000000 & F1\\\\\n",
       "\t10 & 10 & 17 & M & 10.00000 & 0.7362878 & 0.3697681 & M0\\\\\n",
       "\t11 & 11 & 53 & F & 12.00000 & 0.0000000 & 0.0000000 & F1\\\\\n",
       "\t12 & 12 & 21 & F & 12.00000 & 0.0000000 & 0.0000000 & F0\\\\\n",
       "\t13 & 13 & 18 & F & 11.00000 & 1.0000000 & 0.4470808 & F0\\\\\n",
       "\t14 & 14 & 34 & M & 16.00000 & 1.0000000 & 0.0000000 & M0\\\\\n",
       "\t15 & 15 & 44 & M & 14.00000 & 0.0000000 & 0.0000000 & M1\\\\\n",
       "\t16 & 16 & 45 & M & 11.00000 & 0.0000000 & 0.0000000 & M1\\\\\n",
       "\t17 & 17 & 54 & F & 14.00000 & 0.0000000 & 0.0000000 & F1\\\\\n",
       "\t18 & 18 & 55 & F & 10.00000 & 0.0000000 & 0.0000000 & F1\\\\\n",
       "\t19 & 19 & 29 & F & 12.00000 & 0.4826387 & 0.0000000 & F0\\\\\n",
       "\t20 & 20 & 32 & F & 10.00000 & 0.0000000 & 0.0000000 & F0\\\\\n",
       "\\end{tabular}\n"
      ],
      "text/markdown": [
       "\n",
       "A data.frame: 20 × 7\n",
       "\n",
       "| <!--/--> | person &lt;int&gt; | alder &lt;dbl&gt; | kjoenn &lt;chr&gt; | aar_utdanning &lt;dbl&gt; | kriminalitetsoffer &lt;dbl&gt; | voldskriminalitetsoffer &lt;dbl&gt; | celle &lt;chr&gt; |\n",
       "|---|---|---|---|---|---|---|---|\n",
       "| 1 |  1 | 47 | M | 16.00000 | 0.0000000 | 0.0000000 | M1 |\n",
       "| 2 |  2 | 45 | F | 11.97911 | 1.0000000 | 1.0000000 | F1 |\n",
       "| 3 |  3 | 19 | M | 13.13677 | 0.0000000 | 0.0000000 | M0 |\n",
       "| 4 |  4 | 21 | F | 11.00159 | 1.0000000 | 1.0000000 | F0 |\n",
       "| 5 |  5 | 24 | M | 12.00000 | 1.0000000 | 1.0000000 | M0 |\n",
       "| 6 |  6 | 41 | F | 11.81619 | 0.0000000 | 0.0000000 | F1 |\n",
       "| 7 |  7 | 36 | M | 20.00000 | 1.0000000 | 0.1601906 | M1 |\n",
       "| 8 |  8 | 50 | M | 12.00000 | 0.0000000 | 0.0000000 | M1 |\n",
       "| 9 |  9 | 53 | F | 13.00000 | 0.0000000 | 0.0000000 | F1 |\n",
       "| 10 | 10 | 17 | M | 10.00000 | 0.7362878 | 0.3697681 | M0 |\n",
       "| 11 | 11 | 53 | F | 12.00000 | 0.0000000 | 0.0000000 | F1 |\n",
       "| 12 | 12 | 21 | F | 12.00000 | 0.0000000 | 0.0000000 | F0 |\n",
       "| 13 | 13 | 18 | F | 11.00000 | 1.0000000 | 0.4470808 | F0 |\n",
       "| 14 | 14 | 34 | M | 16.00000 | 1.0000000 | 0.0000000 | M0 |\n",
       "| 15 | 15 | 44 | M | 14.00000 | 0.0000000 | 0.0000000 | M1 |\n",
       "| 16 | 16 | 45 | M | 11.00000 | 0.0000000 | 0.0000000 | M1 |\n",
       "| 17 | 17 | 54 | F | 14.00000 | 0.0000000 | 0.0000000 | F1 |\n",
       "| 18 | 18 | 55 | F | 10.00000 | 0.0000000 | 0.0000000 | F1 |\n",
       "| 19 | 19 | 29 | F | 12.00000 | 0.4826387 | 0.0000000 | F0 |\n",
       "| 20 | 20 | 32 | F | 10.00000 | 0.0000000 | 0.0000000 | F0 |\n",
       "\n"
      ],
      "text/plain": [
       "   person alder kjoenn aar_utdanning kriminalitetsoffer voldskriminalitetsoffer\n",
       "1   1     47    M      16.00000      0.0000000          0.0000000              \n",
       "2   2     45    F      11.97911      1.0000000          1.0000000              \n",
       "3   3     19    M      13.13677      0.0000000          0.0000000              \n",
       "4   4     21    F      11.00159      1.0000000          1.0000000              \n",
       "5   5     24    M      12.00000      1.0000000          1.0000000              \n",
       "6   6     41    F      11.81619      0.0000000          0.0000000              \n",
       "7   7     36    M      20.00000      1.0000000          0.1601906              \n",
       "8   8     50    M      12.00000      0.0000000          0.0000000              \n",
       "9   9     53    F      13.00000      0.0000000          0.0000000              \n",
       "10 10     17    M      10.00000      0.7362878          0.3697681              \n",
       "11 11     53    F      12.00000      0.0000000          0.0000000              \n",
       "12 12     21    F      12.00000      0.0000000          0.0000000              \n",
       "13 13     18    F      11.00000      1.0000000          0.4470808              \n",
       "14 14     34    M      16.00000      1.0000000          0.0000000              \n",
       "15 15     44    M      14.00000      0.0000000          0.0000000              \n",
       "16 16     45    M      11.00000      0.0000000          0.0000000              \n",
       "17 17     54    F      14.00000      0.0000000          0.0000000              \n",
       "18 18     55    F      10.00000      0.0000000          0.0000000              \n",
       "19 19     29    F      12.00000      0.4826387          0.0000000              \n",
       "20 20     32    F      10.00000      0.0000000          0.0000000              \n",
       "   celle\n",
       "1  M1   \n",
       "2  F1   \n",
       "3  M0   \n",
       "4  F0   \n",
       "5  M0   \n",
       "6  F1   \n",
       "7  M1   \n",
       "8  M1   \n",
       "9  F1   \n",
       "10 M0   \n",
       "11 F1   \n",
       "12 F0   \n",
       "13 F0   \n",
       "14 M0   \n",
       "15 M1   \n",
       "16 M1   \n",
       "17 F1   \n",
       "18 F1   \n",
       "19 F0   \n",
       "20 F0   "
      ]
     },
     "metadata": {},
     "output_type": "display_data"
    }
   ],
   "source": [
    "offer %>% impute_lm(aar_utdanning + kriminalitetsoffer + voldskriminalitetsoffer ~ alder + kjoenn) -> offer_2_3\n",
    "offer_2_3"
   ]
  },
  {
   "cell_type": "markdown",
   "id": "09e42286-f127-44be-b0a6-30951cd1c8c8",
   "metadata": {},
   "source": [
    "### Oppgave 2.4\n",
    "- Samme som i 2.3, men bruk predictive mean matching(pmm)\n",
    "- Lag resultater til en ny datasett: offer_2_4"
   ]
  },
  {
   "cell_type": "code",
   "execution_count": 26,
   "id": "f0518869-c523-4cbf-87d1-132b16cb0a3b",
   "metadata": {},
   "outputs": [
    {
     "data": {
      "text/html": [
       "<table class=\"dataframe\">\n",
       "<caption>A data.frame: 20 × 7</caption>\n",
       "<thead>\n",
       "\t<tr><th></th><th scope=col>person</th><th scope=col>alder</th><th scope=col>kjoenn</th><th scope=col>aar_utdanning</th><th scope=col>kriminalitetsoffer</th><th scope=col>voldskriminalitetsoffer</th><th scope=col>celle</th></tr>\n",
       "\t<tr><th></th><th scope=col>&lt;int&gt;</th><th scope=col>&lt;dbl&gt;</th><th scope=col>&lt;chr&gt;</th><th scope=col>&lt;dbl&gt;</th><th scope=col>&lt;dbl&gt;</th><th scope=col>&lt;dbl&gt;</th><th scope=col>&lt;chr&gt;</th></tr>\n",
       "</thead>\n",
       "<tbody>\n",
       "\t<tr><th scope=row>1</th><td> 1</td><td>47</td><td>M</td><td>16</td><td>0</td><td>0</td><td>M1</td></tr>\n",
       "\t<tr><th scope=row>2</th><td> 2</td><td>45</td><td>F</td><td>12</td><td>1</td><td>1</td><td>F1</td></tr>\n",
       "\t<tr><th scope=row>3</th><td> 3</td><td>19</td><td>M</td><td>13</td><td>0</td><td>0</td><td>M0</td></tr>\n",
       "\t<tr><th scope=row>4</th><td> 4</td><td>21</td><td>F</td><td>11</td><td>1</td><td>1</td><td>F0</td></tr>\n",
       "\t<tr><th scope=row>5</th><td> 5</td><td>24</td><td>M</td><td>12</td><td>1</td><td>1</td><td>M0</td></tr>\n",
       "\t<tr><th scope=row>6</th><td> 6</td><td>41</td><td>F</td><td>12</td><td>0</td><td>0</td><td>F1</td></tr>\n",
       "\t<tr><th scope=row>7</th><td> 7</td><td>36</td><td>M</td><td>20</td><td>1</td><td>0</td><td>M1</td></tr>\n",
       "\t<tr><th scope=row>8</th><td> 8</td><td>50</td><td>M</td><td>12</td><td>0</td><td>0</td><td>M1</td></tr>\n",
       "\t<tr><th scope=row>9</th><td> 9</td><td>53</td><td>F</td><td>13</td><td>0</td><td>0</td><td>F1</td></tr>\n",
       "\t<tr><th scope=row>10</th><td>10</td><td>17</td><td>M</td><td>10</td><td>1</td><td>0</td><td>M0</td></tr>\n",
       "\t<tr><th scope=row>11</th><td>11</td><td>53</td><td>F</td><td>12</td><td>0</td><td>0</td><td>F1</td></tr>\n",
       "\t<tr><th scope=row>12</th><td>12</td><td>21</td><td>F</td><td>12</td><td>0</td><td>0</td><td>F0</td></tr>\n",
       "\t<tr><th scope=row>13</th><td>13</td><td>18</td><td>F</td><td>11</td><td>1</td><td>0</td><td>F0</td></tr>\n",
       "\t<tr><th scope=row>14</th><td>14</td><td>34</td><td>M</td><td>16</td><td>1</td><td>0</td><td>M0</td></tr>\n",
       "\t<tr><th scope=row>15</th><td>15</td><td>44</td><td>M</td><td>14</td><td>0</td><td>0</td><td>M1</td></tr>\n",
       "\t<tr><th scope=row>16</th><td>16</td><td>45</td><td>M</td><td>11</td><td>0</td><td>0</td><td>M1</td></tr>\n",
       "\t<tr><th scope=row>17</th><td>17</td><td>54</td><td>F</td><td>14</td><td>0</td><td>0</td><td>F1</td></tr>\n",
       "\t<tr><th scope=row>18</th><td>18</td><td>55</td><td>F</td><td>10</td><td>0</td><td>0</td><td>F1</td></tr>\n",
       "\t<tr><th scope=row>19</th><td>19</td><td>29</td><td>F</td><td>12</td><td>0</td><td>0</td><td>F0</td></tr>\n",
       "\t<tr><th scope=row>20</th><td>20</td><td>32</td><td>F</td><td>10</td><td>0</td><td>0</td><td>F0</td></tr>\n",
       "</tbody>\n",
       "</table>\n"
      ],
      "text/latex": [
       "A data.frame: 20 × 7\n",
       "\\begin{tabular}{r|lllllll}\n",
       "  & person & alder & kjoenn & aar\\_utdanning & kriminalitetsoffer & voldskriminalitetsoffer & celle\\\\\n",
       "  & <int> & <dbl> & <chr> & <dbl> & <dbl> & <dbl> & <chr>\\\\\n",
       "\\hline\n",
       "\t1 &  1 & 47 & M & 16 & 0 & 0 & M1\\\\\n",
       "\t2 &  2 & 45 & F & 12 & 1 & 1 & F1\\\\\n",
       "\t3 &  3 & 19 & M & 13 & 0 & 0 & M0\\\\\n",
       "\t4 &  4 & 21 & F & 11 & 1 & 1 & F0\\\\\n",
       "\t5 &  5 & 24 & M & 12 & 1 & 1 & M0\\\\\n",
       "\t6 &  6 & 41 & F & 12 & 0 & 0 & F1\\\\\n",
       "\t7 &  7 & 36 & M & 20 & 1 & 0 & M1\\\\\n",
       "\t8 &  8 & 50 & M & 12 & 0 & 0 & M1\\\\\n",
       "\t9 &  9 & 53 & F & 13 & 0 & 0 & F1\\\\\n",
       "\t10 & 10 & 17 & M & 10 & 1 & 0 & M0\\\\\n",
       "\t11 & 11 & 53 & F & 12 & 0 & 0 & F1\\\\\n",
       "\t12 & 12 & 21 & F & 12 & 0 & 0 & F0\\\\\n",
       "\t13 & 13 & 18 & F & 11 & 1 & 0 & F0\\\\\n",
       "\t14 & 14 & 34 & M & 16 & 1 & 0 & M0\\\\\n",
       "\t15 & 15 & 44 & M & 14 & 0 & 0 & M1\\\\\n",
       "\t16 & 16 & 45 & M & 11 & 0 & 0 & M1\\\\\n",
       "\t17 & 17 & 54 & F & 14 & 0 & 0 & F1\\\\\n",
       "\t18 & 18 & 55 & F & 10 & 0 & 0 & F1\\\\\n",
       "\t19 & 19 & 29 & F & 12 & 0 & 0 & F0\\\\\n",
       "\t20 & 20 & 32 & F & 10 & 0 & 0 & F0\\\\\n",
       "\\end{tabular}\n"
      ],
      "text/markdown": [
       "\n",
       "A data.frame: 20 × 7\n",
       "\n",
       "| <!--/--> | person &lt;int&gt; | alder &lt;dbl&gt; | kjoenn &lt;chr&gt; | aar_utdanning &lt;dbl&gt; | kriminalitetsoffer &lt;dbl&gt; | voldskriminalitetsoffer &lt;dbl&gt; | celle &lt;chr&gt; |\n",
       "|---|---|---|---|---|---|---|---|\n",
       "| 1 |  1 | 47 | M | 16 | 0 | 0 | M1 |\n",
       "| 2 |  2 | 45 | F | 12 | 1 | 1 | F1 |\n",
       "| 3 |  3 | 19 | M | 13 | 0 | 0 | M0 |\n",
       "| 4 |  4 | 21 | F | 11 | 1 | 1 | F0 |\n",
       "| 5 |  5 | 24 | M | 12 | 1 | 1 | M0 |\n",
       "| 6 |  6 | 41 | F | 12 | 0 | 0 | F1 |\n",
       "| 7 |  7 | 36 | M | 20 | 1 | 0 | M1 |\n",
       "| 8 |  8 | 50 | M | 12 | 0 | 0 | M1 |\n",
       "| 9 |  9 | 53 | F | 13 | 0 | 0 | F1 |\n",
       "| 10 | 10 | 17 | M | 10 | 1 | 0 | M0 |\n",
       "| 11 | 11 | 53 | F | 12 | 0 | 0 | F1 |\n",
       "| 12 | 12 | 21 | F | 12 | 0 | 0 | F0 |\n",
       "| 13 | 13 | 18 | F | 11 | 1 | 0 | F0 |\n",
       "| 14 | 14 | 34 | M | 16 | 1 | 0 | M0 |\n",
       "| 15 | 15 | 44 | M | 14 | 0 | 0 | M1 |\n",
       "| 16 | 16 | 45 | M | 11 | 0 | 0 | M1 |\n",
       "| 17 | 17 | 54 | F | 14 | 0 | 0 | F1 |\n",
       "| 18 | 18 | 55 | F | 10 | 0 | 0 | F1 |\n",
       "| 19 | 19 | 29 | F | 12 | 0 | 0 | F0 |\n",
       "| 20 | 20 | 32 | F | 10 | 0 | 0 | F0 |\n",
       "\n"
      ],
      "text/plain": [
       "   person alder kjoenn aar_utdanning kriminalitetsoffer voldskriminalitetsoffer\n",
       "1   1     47    M      16            0                  0                      \n",
       "2   2     45    F      12            1                  1                      \n",
       "3   3     19    M      13            0                  0                      \n",
       "4   4     21    F      11            1                  1                      \n",
       "5   5     24    M      12            1                  1                      \n",
       "6   6     41    F      12            0                  0                      \n",
       "7   7     36    M      20            1                  0                      \n",
       "8   8     50    M      12            0                  0                      \n",
       "9   9     53    F      13            0                  0                      \n",
       "10 10     17    M      10            1                  0                      \n",
       "11 11     53    F      12            0                  0                      \n",
       "12 12     21    F      12            0                  0                      \n",
       "13 13     18    F      11            1                  0                      \n",
       "14 14     34    M      16            1                  0                      \n",
       "15 15     44    M      14            0                  0                      \n",
       "16 16     45    M      11            0                  0                      \n",
       "17 17     54    F      14            0                  0                      \n",
       "18 18     55    F      10            0                  0                      \n",
       "19 19     29    F      12            0                  0                      \n",
       "20 20     32    F      10            0                  0                      \n",
       "   celle\n",
       "1  M1   \n",
       "2  F1   \n",
       "3  M0   \n",
       "4  F0   \n",
       "5  M0   \n",
       "6  F1   \n",
       "7  M1   \n",
       "8  M1   \n",
       "9  F1   \n",
       "10 M0   \n",
       "11 F1   \n",
       "12 F0   \n",
       "13 F0   \n",
       "14 M0   \n",
       "15 M1   \n",
       "16 M1   \n",
       "17 F1   \n",
       "18 F1   \n",
       "19 F0   \n",
       "20 F0   "
      ]
     },
     "metadata": {},
     "output_type": "display_data"
    }
   ],
   "source": [
    "set.seed(1000)\n",
    "offer %>% impute_pmm(aar_utdanning + kriminalitetsoffer + voldskriminalitetsoffer ~ alder + kjoenn, predictor = impute_lm, pool = \"complete\") -> offer_2_4\n",
    "offer_2_4"
   ]
  },
  {
   "cell_type": "markdown",
   "id": "8021380c-7165-4bb2-a0b2-6ad98fe4177e",
   "metadata": {},
   "source": [
    "### Oppgave 2.5\n",
    "- plot resultater mot aar_utdanning"
   ]
  },
  {
   "cell_type": "code",
   "execution_count": 28,
   "id": "e3fad112-fcf9-4266-8264-d9bca982a5c3",
   "metadata": {},
   "outputs": [
    {
     "data": {
      "text/html": [
       "<table class=\"dataframe\">\n",
       "<caption>A data.frame: 11 × 7</caption>\n",
       "<thead>\n",
       "\t<tr><th></th><th scope=col>person</th><th scope=col>alder</th><th scope=col>kjoenn</th><th scope=col>aar_utdanning</th><th scope=col>kriminalitetsoffer</th><th scope=col>voldskriminalitetsoffer</th><th scope=col>celle</th></tr>\n",
       "\t<tr><th></th><th scope=col>&lt;int&gt;</th><th scope=col>&lt;dbl&gt;</th><th scope=col>&lt;chr&gt;</th><th scope=col>&lt;dbl&gt;</th><th scope=col>&lt;dbl&gt;</th><th scope=col>&lt;dbl&gt;</th><th scope=col>&lt;chr&gt;</th></tr>\n",
       "</thead>\n",
       "<tbody>\n",
       "\t<tr><th scope=row>2</th><td> 2</td><td>45</td><td>F</td><td>NA</td><td> 1</td><td> 1</td><td>F1</td></tr>\n",
       "\t<tr><th scope=row>4</th><td> 4</td><td>21</td><td>F</td><td>NA</td><td> 1</td><td> 1</td><td>F0</td></tr>\n",
       "\t<tr><th scope=row>6</th><td> 6</td><td>41</td><td>F</td><td>NA</td><td> 0</td><td> 0</td><td>F1</td></tr>\n",
       "\t<tr><th scope=row>9</th><td> 9</td><td>53</td><td>F</td><td>13</td><td> 0</td><td> 0</td><td>F1</td></tr>\n",
       "\t<tr><th scope=row>11</th><td>11</td><td>53</td><td>F</td><td>12</td><td> 0</td><td> 0</td><td>F1</td></tr>\n",
       "\t<tr><th scope=row>12</th><td>12</td><td>21</td><td>F</td><td>12</td><td> 0</td><td> 0</td><td>F0</td></tr>\n",
       "\t<tr><th scope=row>13</th><td>13</td><td>18</td><td>F</td><td>11</td><td> 1</td><td>NA</td><td>F0</td></tr>\n",
       "\t<tr><th scope=row>17</th><td>17</td><td>54</td><td>F</td><td>14</td><td> 0</td><td> 0</td><td>F1</td></tr>\n",
       "\t<tr><th scope=row>18</th><td>18</td><td>55</td><td>F</td><td>10</td><td> 0</td><td> 0</td><td>F1</td></tr>\n",
       "\t<tr><th scope=row>19</th><td>19</td><td>29</td><td>F</td><td>12</td><td>NA</td><td> 0</td><td>F0</td></tr>\n",
       "\t<tr><th scope=row>20</th><td>20</td><td>32</td><td>F</td><td>10</td><td> 0</td><td> 0</td><td>F0</td></tr>\n",
       "</tbody>\n",
       "</table>\n"
      ],
      "text/latex": [
       "A data.frame: 11 × 7\n",
       "\\begin{tabular}{r|lllllll}\n",
       "  & person & alder & kjoenn & aar\\_utdanning & kriminalitetsoffer & voldskriminalitetsoffer & celle\\\\\n",
       "  & <int> & <dbl> & <chr> & <dbl> & <dbl> & <dbl> & <chr>\\\\\n",
       "\\hline\n",
       "\t2 &  2 & 45 & F & NA &  1 &  1 & F1\\\\\n",
       "\t4 &  4 & 21 & F & NA &  1 &  1 & F0\\\\\n",
       "\t6 &  6 & 41 & F & NA &  0 &  0 & F1\\\\\n",
       "\t9 &  9 & 53 & F & 13 &  0 &  0 & F1\\\\\n",
       "\t11 & 11 & 53 & F & 12 &  0 &  0 & F1\\\\\n",
       "\t12 & 12 & 21 & F & 12 &  0 &  0 & F0\\\\\n",
       "\t13 & 13 & 18 & F & 11 &  1 & NA & F0\\\\\n",
       "\t17 & 17 & 54 & F & 14 &  0 &  0 & F1\\\\\n",
       "\t18 & 18 & 55 & F & 10 &  0 &  0 & F1\\\\\n",
       "\t19 & 19 & 29 & F & 12 & NA &  0 & F0\\\\\n",
       "\t20 & 20 & 32 & F & 10 &  0 &  0 & F0\\\\\n",
       "\\end{tabular}\n"
      ],
      "text/markdown": [
       "\n",
       "A data.frame: 11 × 7\n",
       "\n",
       "| <!--/--> | person &lt;int&gt; | alder &lt;dbl&gt; | kjoenn &lt;chr&gt; | aar_utdanning &lt;dbl&gt; | kriminalitetsoffer &lt;dbl&gt; | voldskriminalitetsoffer &lt;dbl&gt; | celle &lt;chr&gt; |\n",
       "|---|---|---|---|---|---|---|---|\n",
       "| 2 |  2 | 45 | F | NA |  1 |  1 | F1 |\n",
       "| 4 |  4 | 21 | F | NA |  1 |  1 | F0 |\n",
       "| 6 |  6 | 41 | F | NA |  0 |  0 | F1 |\n",
       "| 9 |  9 | 53 | F | 13 |  0 |  0 | F1 |\n",
       "| 11 | 11 | 53 | F | 12 |  0 |  0 | F1 |\n",
       "| 12 | 12 | 21 | F | 12 |  0 |  0 | F0 |\n",
       "| 13 | 13 | 18 | F | 11 |  1 | NA | F0 |\n",
       "| 17 | 17 | 54 | F | 14 |  0 |  0 | F1 |\n",
       "| 18 | 18 | 55 | F | 10 |  0 |  0 | F1 |\n",
       "| 19 | 19 | 29 | F | 12 | NA |  0 | F0 |\n",
       "| 20 | 20 | 32 | F | 10 |  0 |  0 | F0 |\n",
       "\n"
      ],
      "text/plain": [
       "   person alder kjoenn aar_utdanning kriminalitetsoffer voldskriminalitetsoffer\n",
       "2   2     45    F      NA             1                  1                     \n",
       "4   4     21    F      NA             1                  1                     \n",
       "6   6     41    F      NA             0                  0                     \n",
       "9   9     53    F      13             0                  0                     \n",
       "11 11     53    F      12             0                  0                     \n",
       "12 12     21    F      12             0                  0                     \n",
       "13 13     18    F      11             1                 NA                     \n",
       "17 17     54    F      14             0                  0                     \n",
       "18 18     55    F      10             0                  0                     \n",
       "19 19     29    F      12            NA                  0                     \n",
       "20 20     32    F      10             0                  0                     \n",
       "   celle\n",
       "2  F1   \n",
       "4  F0   \n",
       "6  F1   \n",
       "9  F1   \n",
       "11 F1   \n",
       "12 F0   \n",
       "13 F0   \n",
       "17 F1   \n",
       "18 F1   \n",
       "19 F0   \n",
       "20 F0   "
      ]
     },
     "metadata": {},
     "output_type": "display_data"
    },
    {
     "data": {
      "image/png": "[encoded data removed]",
      "text/plain": [
       "plot without title"
      ]
     },
     "metadata": {
      "image/png": {
       "height": 420,
       "width": 420
      }
     },
     "output_type": "display_data"
    },
    {
     "data": {
      "image/png": "[encoded data removed]",
      "text/plain": [
       "plot without title"
      ]
     },
     "metadata": {
      "image/png": {
       "height": 420,
       "width": 420
      }
     },
     "output_type": "display_data"
    },
    {
     "data": {
      "image/png": "[encoded data removed]",
      "text/plain": [
       "plot without title"
      ]
     },
     "metadata": {
      "image/png": {
       "height": 420,
       "width": 420
      }
     },
     "output_type": "display_data"
    },
    {
     "data": {
      "image/png": "[encoded data removed]",
      "text/plain": [
       "plot without title"
      ]
     },
     "metadata": {
      "image/png": {
       "height": 420,
       "width": 420
      }
     },
     "output_type": "display_data"
    },
    {
     "data": {
      "image/png": "[encoded data removed]",
      "text/plain": [
       "plot without title"
      ]
     },
     "metadata": {
      "image/png": {
       "height": 420,
       "width": 420
      }
     },
     "output_type": "display_data"
    }
   ],
   "source": [
    "rule <- t$kjoenn == \"F\"\n",
    "\n",
    "plot(offer$alder[rule], offer$aar_utdanning[rule])\n",
    "plot(offer$alder[rule], offer_2_1$aar_utdanning[rule])\n",
    "plot(offer$alder[rule], offer_2_2$aar_utdanning[rule])\n",
    "plot(offer$alder[rule], offer_2_3$aar_utdanning[rule])\n",
    "plot(offer$alder[rule], offer_2_4$aar_utdanning[rule])"
   ]
  },
  {
   "cell_type": "markdown",
   "id": "f2a2cd98-4756-4911-ab9e-f80fcdcc32e7",
   "metadata": {},
   "source": [
    "<a id = 'del3'></a>\n",
    "## Del 3"
   ]
  },
  {
   "cell_type": "markdown",
   "id": "edc97c31-117e-4dc2-ae8a-3002ce486ecc",
   "metadata": {},
   "source": [
    "### Oppgave\n",
    "Bruk rå `offerdata` og spor endringer i oppgave 1.2, 1.3 og med bruk av lumberjack pakke svar på spørsmålene. Dermed kjør inn data fra [Setup](#setup) på nytt først."
   ]
  },
  {
   "cell_type": "code",
   "execution_count": 30,
   "id": "63afd257-4a6a-41c7-a5e0-7c8cdb554ac0",
   "metadata": {},
   "outputs": [
    {
     "name": "stderr",
     "output_type": "stream",
     "text": [
      "Dumped a log at offer_3_1_cellwise.csv\n",
      "\n",
      "Dumped a log at offer_3_1_expr.csv\n",
      "\n"
     ]
    },
    {
     "data": {
      "text/html": [
       "<table class=\"dataframe\">\n",
       "<caption>A data.frame: 20 × 7</caption>\n",
       "<thead>\n",
       "\t<tr><th></th><th scope=col>person</th><th scope=col>alder</th><th scope=col>kjoenn</th><th scope=col>aar_utdanning</th><th scope=col>kriminalitetsoffer</th><th scope=col>voldskriminalitetsoffer</th><th scope=col>celle</th></tr>\n",
       "\t<tr><th></th><th scope=col>&lt;int&gt;</th><th scope=col>&lt;dbl&gt;</th><th scope=col>&lt;chr&gt;</th><th scope=col>&lt;dbl&gt;</th><th scope=col>&lt;dbl&gt;</th><th scope=col>&lt;dbl&gt;</th><th scope=col>&lt;chr&gt;</th></tr>\n",
       "</thead>\n",
       "<tbody>\n",
       "\t<tr><th scope=row>1</th><td> 1</td><td>47</td><td>M</td><td>16</td><td>0</td><td>0</td><td>M1</td></tr>\n",
       "\t<tr><th scope=row>2</th><td> 2</td><td>45</td><td>F</td><td>12</td><td>1</td><td>1</td><td>F1</td></tr>\n",
       "\t<tr><th scope=row>3</th><td> 3</td><td>19</td><td>M</td><td>13</td><td>0</td><td>0</td><td>M0</td></tr>\n",
       "\t<tr><th scope=row>4</th><td> 4</td><td>21</td><td>F</td><td>11</td><td>1</td><td>1</td><td>F0</td></tr>\n",
       "\t<tr><th scope=row>5</th><td> 5</td><td>24</td><td>M</td><td>12</td><td>1</td><td>1</td><td>M0</td></tr>\n",
       "\t<tr><th scope=row>6</th><td> 6</td><td>41</td><td>F</td><td>12</td><td>0</td><td>0</td><td>F1</td></tr>\n",
       "\t<tr><th scope=row>7</th><td> 7</td><td>36</td><td>M</td><td>20</td><td>1</td><td>0</td><td>M1</td></tr>\n",
       "\t<tr><th scope=row>8</th><td> 8</td><td>50</td><td>M</td><td>12</td><td>0</td><td>0</td><td>M1</td></tr>\n",
       "\t<tr><th scope=row>9</th><td> 9</td><td>53</td><td>F</td><td>13</td><td>0</td><td>0</td><td>F1</td></tr>\n",
       "\t<tr><th scope=row>10</th><td>10</td><td>17</td><td>M</td><td>10</td><td>1</td><td>0</td><td>M0</td></tr>\n",
       "\t<tr><th scope=row>11</th><td>11</td><td>53</td><td>F</td><td>12</td><td>0</td><td>0</td><td>F1</td></tr>\n",
       "\t<tr><th scope=row>12</th><td>12</td><td>21</td><td>F</td><td>12</td><td>0</td><td>0</td><td>F0</td></tr>\n",
       "\t<tr><th scope=row>13</th><td>13</td><td>18</td><td>F</td><td>11</td><td>1</td><td>0</td><td>F0</td></tr>\n",
       "\t<tr><th scope=row>14</th><td>14</td><td>34</td><td>M</td><td>16</td><td>1</td><td>0</td><td>M0</td></tr>\n",
       "\t<tr><th scope=row>15</th><td>15</td><td>44</td><td>M</td><td>14</td><td>0</td><td>0</td><td>M1</td></tr>\n",
       "\t<tr><th scope=row>16</th><td>16</td><td>45</td><td>M</td><td>11</td><td>0</td><td>0</td><td>M1</td></tr>\n",
       "\t<tr><th scope=row>17</th><td>17</td><td>54</td><td>F</td><td>14</td><td>0</td><td>0</td><td>F1</td></tr>\n",
       "\t<tr><th scope=row>18</th><td>18</td><td>55</td><td>F</td><td>10</td><td>0</td><td>0</td><td>F1</td></tr>\n",
       "\t<tr><th scope=row>19</th><td>19</td><td>29</td><td>F</td><td>12</td><td>0</td><td>0</td><td>F0</td></tr>\n",
       "\t<tr><th scope=row>20</th><td>20</td><td>32</td><td>F</td><td>10</td><td>0</td><td>0</td><td>F0</td></tr>\n",
       "</tbody>\n",
       "</table>\n"
      ],
      "text/latex": [
       "A data.frame: 20 × 7\n",
       "\\begin{tabular}{r|lllllll}\n",
       "  & person & alder & kjoenn & aar\\_utdanning & kriminalitetsoffer & voldskriminalitetsoffer & celle\\\\\n",
       "  & <int> & <dbl> & <chr> & <dbl> & <dbl> & <dbl> & <chr>\\\\\n",
       "\\hline\n",
       "\t1 &  1 & 47 & M & 16 & 0 & 0 & M1\\\\\n",
       "\t2 &  2 & 45 & F & 12 & 1 & 1 & F1\\\\\n",
       "\t3 &  3 & 19 & M & 13 & 0 & 0 & M0\\\\\n",
       "\t4 &  4 & 21 & F & 11 & 1 & 1 & F0\\\\\n",
       "\t5 &  5 & 24 & M & 12 & 1 & 1 & M0\\\\\n",
       "\t6 &  6 & 41 & F & 12 & 0 & 0 & F1\\\\\n",
       "\t7 &  7 & 36 & M & 20 & 1 & 0 & M1\\\\\n",
       "\t8 &  8 & 50 & M & 12 & 0 & 0 & M1\\\\\n",
       "\t9 &  9 & 53 & F & 13 & 0 & 0 & F1\\\\\n",
       "\t10 & 10 & 17 & M & 10 & 1 & 0 & M0\\\\\n",
       "\t11 & 11 & 53 & F & 12 & 0 & 0 & F1\\\\\n",
       "\t12 & 12 & 21 & F & 12 & 0 & 0 & F0\\\\\n",
       "\t13 & 13 & 18 & F & 11 & 1 & 0 & F0\\\\\n",
       "\t14 & 14 & 34 & M & 16 & 1 & 0 & M0\\\\\n",
       "\t15 & 15 & 44 & M & 14 & 0 & 0 & M1\\\\\n",
       "\t16 & 16 & 45 & M & 11 & 0 & 0 & M1\\\\\n",
       "\t17 & 17 & 54 & F & 14 & 0 & 0 & F1\\\\\n",
       "\t18 & 18 & 55 & F & 10 & 0 & 0 & F1\\\\\n",
       "\t19 & 19 & 29 & F & 12 & 0 & 0 & F0\\\\\n",
       "\t20 & 20 & 32 & F & 10 & 0 & 0 & F0\\\\\n",
       "\\end{tabular}\n"
      ],
      "text/markdown": [
       "\n",
       "A data.frame: 20 × 7\n",
       "\n",
       "| <!--/--> | person &lt;int&gt; | alder &lt;dbl&gt; | kjoenn &lt;chr&gt; | aar_utdanning &lt;dbl&gt; | kriminalitetsoffer &lt;dbl&gt; | voldskriminalitetsoffer &lt;dbl&gt; | celle &lt;chr&gt; |\n",
       "|---|---|---|---|---|---|---|---|\n",
       "| 1 |  1 | 47 | M | 16 | 0 | 0 | M1 |\n",
       "| 2 |  2 | 45 | F | 12 | 1 | 1 | F1 |\n",
       "| 3 |  3 | 19 | M | 13 | 0 | 0 | M0 |\n",
       "| 4 |  4 | 21 | F | 11 | 1 | 1 | F0 |\n",
       "| 5 |  5 | 24 | M | 12 | 1 | 1 | M0 |\n",
       "| 6 |  6 | 41 | F | 12 | 0 | 0 | F1 |\n",
       "| 7 |  7 | 36 | M | 20 | 1 | 0 | M1 |\n",
       "| 8 |  8 | 50 | M | 12 | 0 | 0 | M1 |\n",
       "| 9 |  9 | 53 | F | 13 | 0 | 0 | F1 |\n",
       "| 10 | 10 | 17 | M | 10 | 1 | 0 | M0 |\n",
       "| 11 | 11 | 53 | F | 12 | 0 | 0 | F1 |\n",
       "| 12 | 12 | 21 | F | 12 | 0 | 0 | F0 |\n",
       "| 13 | 13 | 18 | F | 11 | 1 | 0 | F0 |\n",
       "| 14 | 14 | 34 | M | 16 | 1 | 0 | M0 |\n",
       "| 15 | 15 | 44 | M | 14 | 0 | 0 | M1 |\n",
       "| 16 | 16 | 45 | M | 11 | 0 | 0 | M1 |\n",
       "| 17 | 17 | 54 | F | 14 | 0 | 0 | F1 |\n",
       "| 18 | 18 | 55 | F | 10 | 0 | 0 | F1 |\n",
       "| 19 | 19 | 29 | F | 12 | 0 | 0 | F0 |\n",
       "| 20 | 20 | 32 | F | 10 | 0 | 0 | F0 |\n",
       "\n"
      ],
      "text/plain": [
       "   person alder kjoenn aar_utdanning kriminalitetsoffer voldskriminalitetsoffer\n",
       "1   1     47    M      16            0                  0                      \n",
       "2   2     45    F      12            1                  1                      \n",
       "3   3     19    M      13            0                  0                      \n",
       "4   4     21    F      11            1                  1                      \n",
       "5   5     24    M      12            1                  1                      \n",
       "6   6     41    F      12            0                  0                      \n",
       "7   7     36    M      20            1                  0                      \n",
       "8   8     50    M      12            0                  0                      \n",
       "9   9     53    F      13            0                  0                      \n",
       "10 10     17    M      10            1                  0                      \n",
       "11 11     53    F      12            0                  0                      \n",
       "12 12     21    F      12            0                  0                      \n",
       "13 13     18    F      11            1                  0                      \n",
       "14 14     34    M      16            1                  0                      \n",
       "15 15     44    M      14            0                  0                      \n",
       "16 16     45    M      11            0                  0                      \n",
       "17 17     54    F      14            0                  0                      \n",
       "18 18     55    F      10            0                  0                      \n",
       "19 19     29    F      12            0                  0                      \n",
       "20 20     32    F      10            0                  0                      \n",
       "   celle\n",
       "1  M1   \n",
       "2  F1   \n",
       "3  M0   \n",
       "4  F0   \n",
       "5  M0   \n",
       "6  F1   \n",
       "7  M1   \n",
       "8  M1   \n",
       "9  F1   \n",
       "10 M0   \n",
       "11 F1   \n",
       "12 F0   \n",
       "13 F0   \n",
       "14 M0   \n",
       "15 M1   \n",
       "16 M1   \n",
       "17 F1   \n",
       "18 F1   \n",
       "19 F0   \n",
       "20 F0   "
      ]
     },
     "metadata": {},
     "output_type": "display_data"
    }
   ],
   "source": [
    "library(lumberjack)\n",
    "\n",
    "offer %>>%\n",
    "  start_log(cellwise$new(key = \"person\")) %>>%\n",
    "  start_log(expression_logger$new(total_utd = sum(aar_utdanning, na.rm = TRUE), count_tom = sum(is.na(aar_utdanning)))) %>>%\n",
    "  modify(m1_2) %>>%\n",
    "  modify(m1_3) %>>%\n",
    "  impute_pmm(aar_utdanning + kriminalitetsoffer + voldskriminalitetsoffer ~ alder + kjoenn, predictor = impute_lm) %>>%\n",
    "  dump_log(\"cellwise\", file = \"offer_3_1_cellwise.csv\") %>>%\n",
    "  dump_log(\"expression_logger\", file = \"offer_3_1_expr.csv\")\n",
    "  \n",
    "offer_3_1_celllwise <- read.csv(\"offer_3_1_cellwise.csv\")\n",
    "offer_3_1_expr <- read.csv(\"offer_3_1_expr.csv\")"
   ]
  },
  {
   "cell_type": "markdown",
   "id": "e582f5f3-cfdb-4729-a096-666cdd58935d",
   "metadata": {},
   "source": [
    "### Oppgave 3.1\n",
    "- Finn prosent personer som fikk misnt 1 editering"
   ]
  },
  {
   "cell_type": "code",
   "execution_count": 31,
   "id": "16e6c490-9d1a-48e1-a928-af39f6261cc9",
   "metadata": {},
   "outputs": [
    {
     "data": {
      "text/html": [
       "40"
      ],
      "text/latex": [
       "40"
      ],
      "text/markdown": [
       "40"
      ],
      "text/plain": [
       "[1] 40"
      ]
     },
     "metadata": {},
     "output_type": "display_data"
    }
   ],
   "source": [
    "length(unique(offer_3_1_celllwise$key)) / nrow(offer) * 100"
   ]
  },
  {
   "cell_type": "markdown",
   "id": "f9d7eb02-20b9-4ba1-ab3b-d5c17697b554",
   "metadata": {},
   "source": [
    "### Oppgave 3.2\n",
    "- finn navn og antall variabler som ble editert"
   ]
  },
  {
   "cell_type": "code",
   "execution_count": 32,
   "id": "a24ce9ff-a21f-435a-99cc-7adef5bc8b8c",
   "metadata": {},
   "outputs": [
    {
     "data": {
      "text/html": [
       "<style>\n",
       ".list-inline {list-style: none; margin:0; padding: 0}\n",
       ".list-inline>li {display: inline-block}\n",
       ".list-inline>li:not(:last-child)::after {content: \"\\00b7\"; padding: 0 .5ex}\n",
       "</style>\n",
       "<ol class=list-inline><li>'kriminalitetsoffer'</li><li>'voldskriminalitetsoffer'</li><li>'aar_utdanning'</li></ol>\n"
      ],
      "text/latex": [
       "\\begin{enumerate*}\n",
       "\\item 'kriminalitetsoffer'\n",
       "\\item 'voldskriminalitetsoffer'\n",
       "\\item 'aar\\_utdanning'\n",
       "\\end{enumerate*}\n"
      ],
      "text/markdown": [
       "1. 'kriminalitetsoffer'\n",
       "2. 'voldskriminalitetsoffer'\n",
       "3. 'aar_utdanning'\n",
       "\n",
       "\n"
      ],
      "text/plain": [
       "[1] \"kriminalitetsoffer\"      \"voldskriminalitetsoffer\"\n",
       "[3] \"aar_utdanning\"          "
      ]
     },
     "metadata": {},
     "output_type": "display_data"
    },
    {
     "data": {
      "text/html": [
       "3"
      ],
      "text/latex": [
       "3"
      ],
      "text/markdown": [
       "3"
      ],
      "text/plain": [
       "[1] 3"
      ]
     },
     "metadata": {},
     "output_type": "display_data"
    }
   ],
   "source": [
    "unique(offer_3_1_celllwise$variable)\n",
    "length(unique(offer_3_1_celllwise$variable))\n"
   ]
  },
  {
   "cell_type": "markdown",
   "id": "9eff7ba8-b9f9-4097-b842-552a07a19624",
   "metadata": {},
   "source": [
    "### Oppgave 3.3\n",
    "- finn prosent editerte i hver variabel fra b."
   ]
  },
  {
   "cell_type": "code",
   "execution_count": 35,
   "id": "ee9e6ab0-12fe-4f52-9d85-a135d0d67914",
   "metadata": {},
   "outputs": [
    {
     "name": "stderr",
     "output_type": "stream",
     "text": [
      "\n",
      "Attaching package: ‘dplyr’\n",
      "\n",
      "\n",
      "The following objects are masked from ‘package:SparkR’:\n",
      "\n",
      "    arrange, between, coalesce, collect, contains, count, cume_dist,\n",
      "    dense_rank, desc, distinct, explain, expr, filter, first, group_by,\n",
      "    intersect, lag, last, lead, mutate, n, n_distinct, ntile,\n",
      "    percent_rank, rename, row_number, sample_frac, select, slice, sql,\n",
      "    summarize, union\n",
      "\n",
      "\n",
      "The following objects are masked from ‘package:stats’:\n",
      "\n",
      "    filter, lag\n",
      "\n",
      "\n",
      "The following objects are masked from ‘package:base’:\n",
      "\n",
      "    intersect, setdiff, setequal, union\n",
      "\n",
      "\n"
     ]
    },
    {
     "data": {
      "text/html": [
       "<table class=\"dataframe\">\n",
       "<caption>A tibble: 3 × 2</caption>\n",
       "<thead>\n",
       "\t<tr><th scope=col>variable</th><th scope=col>n_endringer</th></tr>\n",
       "\t<tr><th scope=col>&lt;chr&gt;</th><th scope=col>&lt;int&gt;</th></tr>\n",
       "</thead>\n",
       "<tbody>\n",
       "\t<tr><td>aar_utdanning          </td><td>4</td></tr>\n",
       "\t<tr><td>kriminalitetsoffer     </td><td>2</td></tr>\n",
       "\t<tr><td>voldskriminalitetsoffer</td><td>3</td></tr>\n",
       "</tbody>\n",
       "</table>\n"
      ],
      "text/latex": [
       "A tibble: 3 × 2\n",
       "\\begin{tabular}{ll}\n",
       " variable & n\\_endringer\\\\\n",
       " <chr> & <int>\\\\\n",
       "\\hline\n",
       "\t aar\\_utdanning           & 4\\\\\n",
       "\t kriminalitetsoffer      & 2\\\\\n",
       "\t voldskriminalitetsoffer & 3\\\\\n",
       "\\end{tabular}\n"
      ],
      "text/markdown": [
       "\n",
       "A tibble: 3 × 2\n",
       "\n",
       "| variable &lt;chr&gt; | n_endringer &lt;int&gt; |\n",
       "|---|---|\n",
       "| aar_utdanning           | 4 |\n",
       "| kriminalitetsoffer      | 2 |\n",
       "| voldskriminalitetsoffer | 3 |\n",
       "\n"
      ],
      "text/plain": [
       "  variable                n_endringer\n",
       "1 aar_utdanning           4          \n",
       "2 kriminalitetsoffer      2          \n",
       "3 voldskriminalitetsoffer 3          "
      ]
     },
     "metadata": {},
     "output_type": "display_data"
    }
   ],
   "source": [
    "library(dplyr)\n",
    "offer_3_1_celllwise %>% group_by(variable) %>% summarise(n_endringer = n_distinct(key))"
   ]
  },
  {
   "cell_type": "markdown",
   "id": "c8bc9acd-6572-4566-9202-1441590b8b26",
   "metadata": {},
   "source": [
    "### Oppgave 3.4\n",
    "- finn steget der endringen i totalen av aar_utdaning ble den største"
   ]
  },
  {
   "cell_type": "code",
   "execution_count": 36,
   "id": "e4b7148f-783b-4c77-99fe-7c973705fc87",
   "metadata": {},
   "outputs": [
    {
     "data": {
      "text/html": [
       "<table class=\"dataframe\">\n",
       "<caption>A data.frame: 2 × 6</caption>\n",
       "<thead>\n",
       "\t<tr><th></th><th scope=col>step</th><th scope=col>srcref</th><th scope=col>expression</th><th scope=col>total_utd</th><th scope=col>count_tom</th><th scope=col>diff</th></tr>\n",
       "\t<tr><th></th><th scope=col>&lt;int&gt;</th><th scope=col>&lt;lgl&gt;</th><th scope=col>&lt;chr&gt;</th><th scope=col>&lt;int&gt;</th><th scope=col>&lt;int&gt;</th><th scope=col>&lt;dbl&gt;</th></tr>\n",
       "</thead>\n",
       "<tbody>\n",
       "\t<tr><th scope=row>3</th><td>3</td><td>NA</td><td>modify(m1_3)                                                                                                    </td><td>205</td><td>4</td><td> 0</td></tr>\n",
       "\t<tr><th scope=row>4</th><td>4</td><td>NA</td><td>impute_pmm(aar_utdanning + kriminalitetsoffer + voldskriminalitetsoffer ~ alder + kjoenn, predictor = impute_lm)</td><td>253</td><td>0</td><td>48</td></tr>\n",
       "</tbody>\n",
       "</table>\n"
      ],
      "text/latex": [
       "A data.frame: 2 × 6\n",
       "\\begin{tabular}{r|llllll}\n",
       "  & step & srcref & expression & total\\_utd & count\\_tom & diff\\\\\n",
       "  & <int> & <lgl> & <chr> & <int> & <int> & <dbl>\\\\\n",
       "\\hline\n",
       "\t3 & 3 & NA & modify(m1\\_3)                                                                                                     & 205 & 4 &  0\\\\\n",
       "\t4 & 4 & NA & impute\\_pmm(aar\\_utdanning + kriminalitetsoffer + voldskriminalitetsoffer \\textasciitilde{} alder + kjoenn, predictor = impute\\_lm) & 253 & 0 & 48\\\\\n",
       "\\end{tabular}\n"
      ],
      "text/markdown": [
       "\n",
       "A data.frame: 2 × 6\n",
       "\n",
       "| <!--/--> | step &lt;int&gt; | srcref &lt;lgl&gt; | expression &lt;chr&gt; | total_utd &lt;int&gt; | count_tom &lt;int&gt; | diff &lt;dbl&gt; |\n",
       "|---|---|---|---|---|---|---|\n",
       "| 3 | 3 | NA | modify(m1_3)                                                                                                     | 205 | 4 |  0 |\n",
       "| 4 | 4 | NA | impute_pmm(aar_utdanning + kriminalitetsoffer + voldskriminalitetsoffer ~ alder + kjoenn, predictor = impute_lm) | 253 | 0 | 48 |\n",
       "\n"
      ],
      "text/plain": [
       "  step srcref\n",
       "3 3    NA    \n",
       "4 4    NA    \n",
       "  expression                                                                                                      \n",
       "3 modify(m1_3)                                                                                                    \n",
       "4 impute_pmm(aar_utdanning + kriminalitetsoffer + voldskriminalitetsoffer ~ alder + kjoenn, predictor = impute_lm)\n",
       "  total_utd count_tom diff\n",
       "3 205       4          0  \n",
       "4 253       0         48  "
      ]
     },
     "metadata": {},
     "output_type": "display_data"
    }
   ],
   "source": [
    "offer_3_1_expr %<>% mutate(diff = total_utd - lag(total_utd)) %>% modify_so(if(is.na(diff)) diff <- 0)\n",
    "max_steg <- match(max(offer_3_1_expr$diff), offer_3_1_expr$diff, )\n",
    "offer_3_1_expr[(max_steg-1):max_steg, ]\n"
   ]
  },
  {
   "cell_type": "code",
   "execution_count": null,
   "id": "ecdb08eb-5cc6-4c73-a2fb-314cf81eacc7",
   "metadata": {},
   "outputs": [],
   "source": []
  }
 ],
 "metadata": {
  "kernelspec": {
   "display_name": "SparkR (k8s cluster)",
   "language": "R",
   "name": "ir_k8s"
  },
  "language_info": {
   "codemirror_mode": "r",
   "file_extension": ".r",
   "mimetype": "text/x-r-source",
   "name": "R",
   "pygments_lexer": "r",
   "version": "4.1.3"
  }
 },
 "nbformat": 4,
 "nbformat_minor": 5
}
